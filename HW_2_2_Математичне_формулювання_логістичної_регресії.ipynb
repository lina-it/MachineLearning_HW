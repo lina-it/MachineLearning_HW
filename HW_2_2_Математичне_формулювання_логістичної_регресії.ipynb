{
 "cells": [
  {
   "cell_type": "markdown",
   "metadata": {
    "id": "KxRmdyv5CIZe"
   },
   "source": [
    "В цьому домашньому завданні ми реалізуємо логістичну регресію на `numpy`.\n",
    "Ці завдання допоможуть вам ґрунтовно засвоїти основні концепції логістичної регресії та реалізувати їх на практиці 🔥\n",
    "\n",
    "#### Завдання 1: Реалізація функції сигмоїди\n",
    "1. З використанням `numpy` напишіть функцію `sigmoid(z)` для обчислення значення сигмоїди згідно з формулою:\n",
    "   $$\n",
    "   \\sigma(z) = \\frac{1}{1 + e^{-z}}\n",
    "   $$\n",
    "2. Використовуючи цю функцію, обчисліть значення сигмоїди для наступних даних: $ z = [-2, -1, 0, 1, 2] $. Виведіть результат обчислень.\n"
   ]
  },
  {
   "cell_type": "code",
   "execution_count": 96,
   "metadata": {
    "id": "v9ilfXulL2wP"
   },
   "outputs": [
    {
     "name": "stdout",
     "output_type": "stream",
     "text": [
      "Значення сигмоїди: [0.11920292 0.26894142 0.5        0.73105858 0.88079708]\n"
     ]
    }
   ],
   "source": [
    "import numpy as np\n",
    "\n",
    "# Реалізація функції сигмоїди\n",
    "def sigmoid(z):\n",
    "    return 1 / (1 + np.exp(-z))\n",
    "\n",
    "# Значення z для обчислення\n",
    "z = np.array([-2, -1, 0, 1, 2])\n",
    "\n",
    "# Обчислення значень сигмоїди\n",
    "sigmoid_values = sigmoid(z)\n",
    "print(\"Значення сигмоїди:\", sigmoid_values)"
   ]
  },
  {
   "cell_type": "markdown",
   "metadata": {
    "id": "LVd_jCGNCR1F"
   },
   "source": [
    "\n",
    "\n",
    "#### Завдання 2: Реалізація функції гіпотези для логістичної регресії\n",
    "1. Напишіть функцію `hypothesis(theta, X)`, яка обчислює гіпотезу для логістичної регресії, використовуючи функцію сигмоїди. Формула гіпотези:\n",
    "   $$\n",
    "   h_\\theta(x) = \\sigma(\\theta^T x) = \\frac{1}{1 + e^{-\\theta^T x}}\n",
    "   $$\n",
    "2. Використайте функцію `hypothesis` для обчислення значень гіпотези для наступних даних:\n",
    "   \n",
    "   $\\theta = [0.5, -0.5]$\n",
    "   \n",
    "   $X = \\begin{bmatrix} 1 & 2 \\\\ 1 & -1 \\\\ 1 & 0 \\\\ 1 & 1 \\end{bmatrix}$\n",
    "\n",
    "  Виведіть результат обчислень.\n"
   ]
  },
  {
   "cell_type": "code",
   "execution_count": 97,
   "metadata": {
    "id": "dKDHv-YtL3TA"
   },
   "outputs": [
    {
     "name": "stdout",
     "output_type": "stream",
     "text": [
      "Значення гіпотези: [0.37754067 0.73105858 0.37754067 0.5       ]\n"
     ]
    }
   ],
   "source": [
    "# Реалізація функції гіпотези\n",
    "def hypothesis(theta, X):\n",
    "    # Використовуємо функцію сигмоїди\n",
    "    return sigmoid(np.dot(X, theta))\n",
    "\n",
    "# Дані для обчислення\n",
    "theta = np.array([0.5, -0.5])\n",
    "X = np.array([[1, 2],\n",
    "              [1, -1],\n",
    "              [0, 1],\n",
    "              [1, 1]])\n",
    "\n",
    "# Обчислення значень гіпотези\n",
    "hypothesis_values = hypothesis(theta, X)\n",
    "print(\"Значення гіпотези:\", hypothesis_values)"
   ]
  },
  {
   "cell_type": "markdown",
   "metadata": {
    "id": "MWASH4Z4ClTo"
   },
   "source": [
    "#### Завдання 3: Реалізація функції для підрахунку градієнтів фукнції втрат\n",
    "1. Напишіть функцію `compute_gradient(theta, X, y)`, яка обчислює градієнти функції втрат для логістичної регресії. Формула для обчислення градієнта:\n",
    "   $$\n",
    "   \\frac{\\partial L(\\theta)}{\\partial \\theta_j} = \\frac{1}{m} \\sum_{i=1}^{m} \\left[ (h_\\theta(x^{(i)}) - y^{(i)}) x_j^{(i)} \\right]\n",
    "   $$\n",
    "2. Використайте функцію `compute_gradient` для обчислення градієнтів для наступних даних:\n",
    "\n",
    "  $\\theta = [0.5, -0.5]$\n",
    "\n",
    "  $X = \\begin{bmatrix} 1 & 2 \\\\ 1 & -1 \\\\ 1 & 0 \\\\ 1 & 1 \\end{bmatrix}$\n",
    "\n",
    "  $y = [1, 0, 1, 0]$\n",
    "\n",
    "  Виведіть результат обчислень."
   ]
  },
  {
   "cell_type": "code",
   "execution_count": 114,
   "metadata": {
    "id": "0DM4xqZCL32i"
   },
   "outputs": [
    {
     "name": "stdout",
     "output_type": "stream",
     "text": [
      "Градієнти: [ 0.15214981 -0.52460914]\n"
     ]
    }
   ],
   "source": [
    "# Функція сигмоїди (як у попередніх завданнях)\n",
    "def sigmoid(z):\n",
    "    return 1 / (1 + np.exp(-z))\n",
    "\n",
    "# Функція для обчислення гіпотези\n",
    "def hypothesis(theta, X):\n",
    "    return sigmoid(np.dot(X, theta))\n",
    "\n",
    "# Реалізація функції для обчислення градієнтів\n",
    "def compute_gradient(theta, X, y):\n",
    "    m = len(y)  # Кількість прикладів\n",
    "    h = hypothesis(theta, X)\n",
    "    gradient = (1 / m) * np.dot(X.T, (h - y))\n",
    "    return gradient\n",
    "\n",
    "# Дані для обчислення\n",
    "theta = np.array([0.5, -0.5])\n",
    "X = np.array([[1, 2],\n",
    "              [1, -1],\n",
    "              [0, 1],\n",
    "              [1, 1]])\n",
    "y = np.array([1, 0, 1, 0])\n",
    "\n",
    "# Обчислення градієнтів\n",
    "gradients = compute_gradient(theta, X, y)\n",
    "print(\"Градієнти:\", gradients)"
   ]
  },
  {
   "cell_type": "markdown",
   "metadata": {
    "id": "nOtJEtdnC1K9"
   },
   "source": [
    "\n",
    "#### Завдання 4: Реалізація повного батч градієнтного спуску\n",
    "\n",
    "**Задача:**\n",
    "1. Напишіть функцію `full_batch_gradient_descent(X, y, lr=0.1, epochs=100)`, яка реалізує алгоритм Full градієнтного спуску для логістичної регресії. Використовуйте такі формули:\n",
    "   - Гіпотеза: $ h_\\theta(x) = \\sigma(\\theta^T x) $\n",
    "   - Оновлення параметрів: $ \\theta_j := \\theta_j - \\alpha \\frac{\\partial L(\\theta)}{\\partial \\theta_j} $\n",
    "2. Використайте функцію `full_batch_gradient_descent` для обчислення параметрів моделі на наступних даних:\n",
    "\n",
    "  $X = \\begin{bmatrix} 1 & 2 \\\\ 1 & -1 \\\\ 1 & 0 \\\\ 1 & 1 \\end{bmatrix}$\n",
    "\n",
    "  $y = [1, 0, 1, 0]$\n",
    "\n",
    "  Увага! Матриця $X$ вже має стовпець одиниць і передбачається, що це. - стовпець для intercept - параметра зсуву.\n",
    "\n",
    "  Виведіть результат обчислень.\n"
   ]
  },
  {
   "cell_type": "code",
   "execution_count": 99,
   "metadata": {
    "id": "fHtUOTxXL4Yy"
   },
   "outputs": [
    {
     "name": "stdout",
     "output_type": "stream",
     "text": [
      "Фінальні параметри моделі (theta): [-1.21448914  1.26119227]\n"
     ]
    }
   ],
   "source": [
    "# Реалізація алгоритму повного батчу градієнтного спуску\n",
    "def full_batch_gradient_descent(X, y, lr=0.1, epochs=100):\n",
    "    m, n = X.shape\n",
    "    theta = np.zeros(n)  # Ініціалізація параметрів нулями\n",
    "    for epoch in range(epochs):\n",
    "        gradients = compute_gradient(theta, X, y)\n",
    "        theta -= lr * gradients  # Оновлення параметрів\n",
    "    return theta\n",
    "\n",
    "# Дані для обчислення\n",
    "X = np.array([[1, 2],\n",
    "              [1, -1],\n",
    "              [0, 1],\n",
    "              [1, 1]])\n",
    "y = np.array([1, 0, 1, 0])\n",
    "\n",
    "# Виконання алгоритму градієнтного спуску\n",
    "theta_final = full_batch_gradient_descent(X, y, lr=0.1, epochs=100)\n",
    "print(\"Фінальні параметри моделі (theta):\", theta_final)"
   ]
  },
  {
   "cell_type": "markdown",
   "metadata": {
    "id": "E4iZV55cE5f3"
   },
   "source": [
    "#### Завдання 5. Обчислення точності моделі\n",
    "\n",
    "1. Напишіть функцію `predict_proba(theta, X)`, яка використовує знайдені параметри $\\theta$ для обчислення ймовірностей належності поточного прикладу з даних до класу $y=1$ на основі значень $\\sigma(\\theta^T x)$.\n",
    "\n",
    "2. Напишіть функцію `predict(theta, X, threshold=0.5)`, яка обчислює клас з передбаченої імовірності належності екземпляра до класу 1 з порогом 0.5. Тобто якщо ймовірність менше 0.5, то передбачаємо клас 0, інакше клас 1.\n",
    "\n",
    "3. Напишіть функцію `accuracy(y_true, y_pred)`, яка обчислює точність моделі, визначивши частку правильно передбачених класів.\n",
    "\n",
    "  Формула метрики Accuracy:\n",
    "  $$\n",
    "  \\text{Accuracy} = \\frac{\\sum_{i=1}^{m} I(\\hat{{y}^{(i)}} = y^{(i)})}{m}\n",
    "  $$\n",
    "\n",
    "  де $\\hat{{y}^{(i)}}$ - передбачене значення класу, $I$ - індикаторна функція (яка дорівнює 1, якщо умова виконується, і 0 - якщо ні), $m$ - кількість прикладів.\n",
    "\n",
    "4. Обчисліть з використанням даних в завданні 4 $X$, $y$ та обчислених коефіцієнтах $\\theta$ та виведіть на екран:\n",
    "  - передбачені моделлю імовірності належності кожного з екземплярів в матриці `X` до класу 1\n",
    "  - класи кожного екземпляра з матриці `X`\n",
    "  - точність моделі."
   ]
  },
  {
   "cell_type": "code",
   "execution_count": 100,
   "metadata": {
    "id": "85ZZfPtjrsai"
   },
   "outputs": [
    {
     "name": "stdout",
     "output_type": "stream",
     "text": [
      "Ймовірності належності до класу 1: [0.37754067 0.73105858 0.37754067 0.5       ]\n",
      "Передбачені класи: [0 1 0 1]\n",
      "Точність моделі (Accuracy): 0.0\n"
     ]
    }
   ],
   "source": [
    "# Функція сигмоїди (як у попередніх завданнях)\n",
    "def sigmoid(z):\n",
    "    return 1 / (1 + np.exp(-z))\n",
    "\n",
    "# 1. Функція для обчислення ймовірності належності до класу 1\n",
    "def predict_proba(theta, X):\n",
    "    return sigmoid(np.dot(X, theta))\n",
    "\n",
    "# 2. Функція для передбачення класу\n",
    "def predict(theta, X, threshold=0.5):\n",
    "    probabilities = predict_proba(theta, X)\n",
    "    return (probabilities >= threshold).astype(int)\n",
    "\n",
    "# 3. Функція для обчислення точності (Accuracy)\n",
    "def accuracy(y_true, y_pred):\n",
    "    return np.mean(y_true == y_pred)\n",
    "\n",
    "# Дані для обчислення\n",
    "X = np.array([[1, 2],\n",
    "              [1, -1],\n",
    "              [0, 1],\n",
    "              [1, 1]])\n",
    "y = np.array([1, 0, 1, 0])\n",
    "theta = np.array([0.5, -0.5])  # Коефіцієнти з попередніх завдань\n",
    "\n",
    "# 4. Обчислення ймовірностей, класів та точності\n",
    "probabilities = predict_proba(theta, X)\n",
    "predicted_classes = predict(theta, X)\n",
    "model_accuracy = accuracy(y, predicted_classes)\n",
    "\n",
    "# Виведення результатів\n",
    "print(\"Ймовірності належності до класу 1:\", probabilities)\n",
    "print(\"Передбачені класи:\", predicted_classes)\n",
    "print(\"Точність моделі (Accuracy):\", model_accuracy)"
   ]
  }
 ],
 "metadata": {
  "colab": {
   "provenance": []
  },
  "kernelspec": {
   "display_name": "Python 3 (ipykernel)",
   "language": "python",
   "name": "python3"
  },
  "language_info": {
   "codemirror_mode": {
    "name": "ipython",
    "version": 3
   },
   "file_extension": ".py",
   "mimetype": "text/x-python",
   "name": "python",
   "nbconvert_exporter": "python",
   "pygments_lexer": "ipython3",
   "version": "3.12.6"
  }
 },
 "nbformat": 4,
 "nbformat_minor": 4
}
