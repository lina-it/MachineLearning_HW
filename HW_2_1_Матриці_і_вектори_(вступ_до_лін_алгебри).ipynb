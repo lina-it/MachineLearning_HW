{
 "cells": [
  {
   "cell_type": "markdown",
   "metadata": {
    "id": "efug1V4CM0lT"
   },
   "source": [
    "### Завдання 1: Створення матриць та векторів\n",
    "1. Створіть `numpy` вектор `vector` розмірністю 10 з випадковими дійсними значеннями в діапазоні від 0 до 1. Можна скористатись двома альтернативними варіантами:\n",
    "  1. Генерація випадкових чисел з модулем [`random.uniform`](https://docs.python.org/3/library/random.html).\n",
    "  2. Створення вектора з допомогою метода `numpy` [np.random.rand](https://numpy.org/doc/stable/reference/random/generated/numpy.random.rand.html)\n",
    "\n",
    "2. Створіть матрицю `matrix` типу `numpy.array` розмірності 3x3 з наступними значеннями\n",
    "\n",
    "  $$\n",
    "  matrix = \\begin{bmatrix}\n",
    "  11 & 14 & 17 \\\\\n",
    "  20 & 23 & 26 \\\\\n",
    "  29 & 32 & 35\n",
    "  \\end{bmatrix}\n",
    "  $$\n",
    "\n",
    "  будь-яким відомими Вам способом.\n",
    "\n",
    "Виведіть на екран вектор і матрицю, а також їх розміри.\n"
   ]
  },
  {
   "cell_type": "code",
   "execution_count": 4,
   "metadata": {
    "id": "jxA_lG2_VIMe"
   },
   "outputs": [],
   "source": [
    "import numpy as np\n",
    "import matplotlib.pyplot as plt\n",
    "import random"
   ]
  },
  {
   "cell_type": "code",
   "execution_count": 5,
   "metadata": {},
   "outputs": [
    {
     "data": {
      "text/plain": [
       "0.2937880213683488"
      ]
     },
     "execution_count": 5,
     "metadata": {},
     "output_type": "execute_result"
    }
   ],
   "source": [
    "random.uniform (0,1)"
   ]
  },
  {
   "cell_type": "code",
   "execution_count": 7,
   "metadata": {},
   "outputs": [
    {
     "name": "stdout",
     "output_type": "stream",
     "text": [
      "Вектор: [0.1482872538576031, 0.879663045171619, 0.28977985266653505, 0.5300343281106443, 0.07003692043579335, 0.6911408068728384, 0.9489888881675895, 0.8328905378308451, 0.7610470803365338, 0.08707280289088626]\n"
     ]
    }
   ],
   "source": [
    "# vector = [random.uniform(0, 1) for _ in range(10)]"
   ]
  },
  {
   "cell_type": "code",
   "execution_count": 25,
   "metadata": {},
   "outputs": [
    {
     "name": "stdout",
     "output_type": "stream",
     "text": [
      "Вектор: [[0.2601817  0.90039006 0.82921028 0.57071444 0.42355406 0.88616392\n",
      "  0.56372146 0.23539956 0.24402536 0.47723528]]\n"
     ]
    }
   ],
   "source": [
    "vector = np.random.rand(1,10)\n",
    "print(\"Вектор:\", vector)"
   ]
  },
  {
   "cell_type": "code",
   "execution_count": 13,
   "metadata": {},
   "outputs": [
    {
     "data": {
      "text/plain": [
       "(1, 10)"
      ]
     },
     "execution_count": 13,
     "metadata": {},
     "output_type": "execute_result"
    }
   ],
   "source": [
    "vector.shape"
   ]
  },
  {
   "cell_type": "code",
   "execution_count": 16,
   "metadata": {},
   "outputs": [
    {
     "name": "stdout",
     "output_type": "stream",
     "text": [
      "Матриця:\n",
      "[[11 14 17]\n",
      " [20 23 26]\n",
      " [29 32 35]]\n"
     ]
    }
   ],
   "source": [
    "matrix = np.array([[11, 14, 17],\n",
    "                   [20, 23, 26],\n",
    "                   [29, 32, 35]])\n",
    "print(\"Матриця:\")\n",
    "print(matrix)"
   ]
  },
  {
   "cell_type": "code",
   "execution_count": 17,
   "metadata": {},
   "outputs": [
    {
     "data": {
      "text/plain": [
       "(3, 3)"
      ]
     },
     "execution_count": 17,
     "metadata": {},
     "output_type": "execute_result"
    }
   ],
   "source": [
    "matrix.shape"
   ]
  },
  {
   "cell_type": "markdown",
   "metadata": {
    "id": "TSJ1P4OuOVe2"
   },
   "source": [
    "\n",
    "### Завдання 2: Операції над векторами та матрицями\n",
    "Виконайте кожну з зазначених операцій над зазначеними оʼєктами і виведіть результат на екран:\n",
    "1. Додайте до кожного значення вектора `vector` число 10 і округліть кожне значення до 2 знаків після коми без використання циклів.\n",
    "2. Помножте кожен елемент матриці з першого завдання на 2 без використання циклів.\n",
    "3. Створіть новий вектор, який містить квадрат кожного `vector` без циклів.\n"
   ]
  },
  {
   "cell_type": "code",
   "execution_count": 34,
   "metadata": {
    "id": "nAAojtyUVJXN"
   },
   "outputs": [
    {
     "data": {
      "text/plain": [
       "array([[10.26, 10.9 , 10.83, 10.57, 10.42, 10.89, 10.56, 10.24, 10.24,\n",
       "        10.48]])"
      ]
     },
     "execution_count": 34,
     "metadata": {},
     "output_type": "execute_result"
    }
   ],
   "source": [
    "# Можна було залишити vector, якщо нам потрібно оновити саме ці дані.\n",
    "vector_a = (vector + 10).round(2)\n",
    "vector_a"
   ]
  },
  {
   "cell_type": "code",
   "execution_count": 29,
   "metadata": {},
   "outputs": [
    {
     "data": {
      "text/plain": [
       "array([[22, 28, 34],\n",
       "       [40, 46, 52],\n",
       "       [58, 64, 70]])"
      ]
     },
     "execution_count": 29,
     "metadata": {},
     "output_type": "execute_result"
    }
   ],
   "source": [
    "matrix_a = matrix * 2\n",
    "matrix_a"
   ]
  },
  {
   "cell_type": "code",
   "execution_count": 33,
   "metadata": {},
   "outputs": [
    {
     "data": {
      "text/plain": [
       "array([[0.06769452, 0.81070227, 0.68758969, 0.32571497, 0.17939804,\n",
       "        0.78528649, 0.31778189, 0.05541295, 0.05954838, 0.22775351]])"
      ]
     },
     "execution_count": 33,
     "metadata": {},
     "output_type": "execute_result"
    }
   ],
   "source": [
    "# Можна було використати vector_a, якщо нам потрібні були нові дані.\n",
    "vector_b = vector**2\n",
    "vector_b"
   ]
  },
  {
   "cell_type": "markdown",
   "metadata": {
    "id": "u6RvWVfhPy-k"
   },
   "source": [
    "\n",
    "### Завдання 3: Множення матриць\n",
    "1. Задані дві матриці `A` і `B`розмірностями 3x2 та 2х3. Виконайте їхнє множення, щоб отримати матрицю 2x2. Виведіть результуючу матрицю `result_matrix` на екран.\n",
    "\n",
    "2. Заданий вектор `C` розмірністю 2х1. Подумайте спочатку, яку розмірність Ви отрмаєте, коли домножите `result_matrix` на вектор `C` і який результат буде. А потім виконайте множення і виведіть результат на екран.\n",
    "\n",
    "3. Задана матриця `D` розмірністю 2х2. Подумайте спочатку, яку розмірність Ви отрмаєте, коли домножите `result_matrix` на матрицю `D` і який результат буде. А потім виконайте множення і виведіть результат на екран."
   ]
  },
  {
   "cell_type": "code",
   "execution_count": 36,
   "metadata": {
    "id": "RwXfPzlbSJ44"
   },
   "outputs": [
    {
     "data": {
      "text/plain": [
       "array([[0.18, 0.53],\n",
       "       [0.75, 0.47],\n",
       "       [0.35, 0.21]])"
      ]
     },
     "metadata": {},
     "output_type": "display_data"
    },
    {
     "data": {
      "text/plain": [
       "array([[0.17, 0.58, 0.75],\n",
       "       [0.38, 0.11, 0.15]])"
      ]
     },
     "metadata": {},
     "output_type": "display_data"
    },
    {
     "data": {
      "text/plain": [
       "array([[0],\n",
       "       [1]])"
      ]
     },
     "metadata": {},
     "output_type": "display_data"
    },
    {
     "data": {
      "text/plain": [
       "array([[0, 1],\n",
       "       [1, 0]])"
      ]
     },
     "metadata": {},
     "output_type": "display_data"
    }
   ],
   "source": [
    "A = np.array(\n",
    "    [[0.18, 0.53],\n",
    "     [0.75, 0.47],\n",
    "     [0.35, 0.21]])\n",
    "\n",
    "B = np.array(\n",
    "    [[0.17, 0.58, 0.75],\n",
    "     [0.38, 0.11, 0.15]])\n",
    "\n",
    "C = np.array([[0], [1]])\n",
    "\n",
    "D = np.array([[0,1], [1,0]])\n",
    "\n",
    "display(A, B, C, D)"
   ]
  },
  {
   "cell_type": "code",
   "execution_count": 38,
   "metadata": {
    "id": "z7-boTbhVKkj"
   },
   "outputs": [
    {
     "data": {
      "text/plain": [
       "array([[0.7281, 0.2034],\n",
       "       [0.5202, 0.2846]])"
      ]
     },
     "execution_count": 38,
     "metadata": {},
     "output_type": "execute_result"
    }
   ],
   "source": [
    "result_matrix = np.dot (A.T, B.T)\n",
    "result_matrix"
   ]
  },
  {
   "cell_type": "code",
   "execution_count": 45,
   "metadata": {},
   "outputs": [
    {
     "data": {
      "text/plain": [
       "array([[0.2034],\n",
       "       [0.2846]])"
      ]
     },
     "execution_count": 45,
     "metadata": {},
     "output_type": "execute_result"
    }
   ],
   "source": [
    "matrix_2 = np.dot (result_matrix, C)\n",
    "matrix_2"
   ]
  },
  {
   "cell_type": "code",
   "execution_count": 52,
   "metadata": {},
   "outputs": [
    {
     "data": {
      "text/plain": [
       "(2, 1)"
      ]
     },
     "execution_count": 52,
     "metadata": {},
     "output_type": "execute_result"
    }
   ],
   "source": [
    "matrix_2.shape"
   ]
  },
  {
   "cell_type": "code",
   "execution_count": 49,
   "metadata": {},
   "outputs": [
    {
     "data": {
      "text/plain": [
       "array([[0.2034, 0.7281],\n",
       "       [0.2846, 0.5202]])"
      ]
     },
     "execution_count": 49,
     "metadata": {},
     "output_type": "execute_result"
    }
   ],
   "source": [
    "matrix_3 = np.dot (result_matrix, D)\n",
    "matrix_3"
   ]
  },
  {
   "cell_type": "code",
   "execution_count": 51,
   "metadata": {},
   "outputs": [
    {
     "data": {
      "text/plain": [
       "(2, 2)"
      ]
     },
     "execution_count": 51,
     "metadata": {},
     "output_type": "execute_result"
    }
   ],
   "source": [
    "matrix_3.shape"
   ]
  },
  {
   "cell_type": "markdown",
   "metadata": {
    "id": "wohp0_cxSGpl"
   },
   "source": [
    "\n",
    "### Завдання 4: Транспонування матриць\n",
    "1. Транспонуйте `result_matrix`.\n",
    "2. Зробіть транспонування вектора `vector` і виведіть форму нової структури. Чи бачите ви зміну?\n",
    "3. Використайте операцію `numpy.expand_dims` над вектором `vector` з аргументом axis=1. Запишіть отриманий результат в змінну `column_vector` і виведіть на екран. Порівняйте з `vector`.\n",
    "4. Зробіть транспонування `column_vector`, виведіть результат на екран разом з розмірностями отриманої структури.\n",
    "\n",
    "\n"
   ]
  },
  {
   "cell_type": "code",
   "execution_count": 53,
   "metadata": {
    "id": "4hFcq1baVLii"
   },
   "outputs": [
    {
     "data": {
      "text/plain": [
       "array([[0.7281, 0.5202],\n",
       "       [0.2034, 0.2846]])"
      ]
     },
     "execution_count": 53,
     "metadata": {},
     "output_type": "execute_result"
    }
   ],
   "source": [
    "result_matrix.T"
   ]
  },
  {
   "cell_type": "code",
   "execution_count": 78,
   "metadata": {},
   "outputs": [],
   "source": [
    "vector_t = vector.T"
   ]
  },
  {
   "cell_type": "code",
   "execution_count": 79,
   "metadata": {},
   "outputs": [
    {
     "data": {
      "text/plain": [
       "(10, 1)"
      ]
     },
     "execution_count": 79,
     "metadata": {},
     "output_type": "execute_result"
    }
   ],
   "source": [
    "vector_t.shape"
   ]
  },
  {
   "cell_type": "markdown",
   "metadata": {},
   "source": [
    "Зміна: вектор-рядок став вектором-колонкою"
   ]
  },
  {
   "cell_type": "code",
   "execution_count": 80,
   "metadata": {},
   "outputs": [
    {
     "data": {
      "text/plain": [
       "array([[[0.2601817 ]],\n",
       "\n",
       "       [[0.90039006]],\n",
       "\n",
       "       [[0.82921028]],\n",
       "\n",
       "       [[0.57071444]],\n",
       "\n",
       "       [[0.42355406]],\n",
       "\n",
       "       [[0.88616392]],\n",
       "\n",
       "       [[0.56372146]],\n",
       "\n",
       "       [[0.23539956]],\n",
       "\n",
       "       [[0.24402536]],\n",
       "\n",
       "       [[0.47723528]]])"
      ]
     },
     "execution_count": 80,
     "metadata": {},
     "output_type": "execute_result"
    }
   ],
   "source": [
    "column_vector = np.expand_dims(vector_t, axis=1)\n",
    "column_vector"
   ]
  },
  {
   "cell_type": "code",
   "execution_count": 81,
   "metadata": {},
   "outputs": [
    {
     "data": {
      "text/plain": [
       "(10, 1, 1)"
      ]
     },
     "execution_count": 81,
     "metadata": {},
     "output_type": "execute_result"
    }
   ],
   "source": [
    "column_vector.shape"
   ]
  },
  {
   "cell_type": "markdown",
   "metadata": {},
   "source": [
    "###### Ця операція додала нову ось до вашого масиву.\n",
    "column_vector має розмірність (10, 1, 1). Це означає:\n",
    "\n",
    "Перша ось: 10 елементів.\n",
    "Друга ось: 1 елемент у кожному \"блоці\".\n",
    "Третя ось: 1 значення всередині кожного блоку."
   ]
  },
  {
   "cell_type": "code",
   "execution_count": 82,
   "metadata": {},
   "outputs": [
    {
     "data": {
      "text/plain": [
       "array([[[0.2601817 , 0.90039006, 0.82921028, 0.57071444, 0.42355406,\n",
       "         0.88616392, 0.56372146, 0.23539956, 0.24402536, 0.47723528]]])"
      ]
     },
     "execution_count": 82,
     "metadata": {},
     "output_type": "execute_result"
    }
   ],
   "source": [
    "column_vector.T"
   ]
  },
  {
   "cell_type": "code",
   "execution_count": 84,
   "metadata": {},
   "outputs": [
    {
     "data": {
      "text/plain": [
       "(1, 1, 10)"
      ]
     },
     "execution_count": 84,
     "metadata": {},
     "output_type": "execute_result"
    }
   ],
   "source": [
    "column_vector.T.shape"
   ]
  },
  {
   "cell_type": "code",
   "execution_count": 86,
   "metadata": {},
   "outputs": [
    {
     "data": {
      "text/plain": [
       "array([[[0.2601817 , 0.90039006, 0.82921028, 0.57071444, 0.42355406,\n",
       "         0.88616392, 0.56372146, 0.23539956, 0.24402536, 0.47723528]]])"
      ]
     },
     "execution_count": 86,
     "metadata": {},
     "output_type": "execute_result"
    }
   ],
   "source": [
    "#transposed = np.transpose(column_vector)\n",
    "#transposed"
   ]
  }
 ],
 "metadata": {
  "colab": {
   "provenance": []
  },
  "kernelspec": {
   "display_name": "Python 3 (ipykernel)",
   "language": "python",
   "name": "python3"
  },
  "language_info": {
   "codemirror_mode": {
    "name": "ipython",
    "version": 3
   },
   "file_extension": ".py",
   "mimetype": "text/x-python",
   "name": "python",
   "nbconvert_exporter": "python",
   "pygments_lexer": "ipython3",
   "version": "3.12.6"
  }
 },
 "nbformat": 4,
 "nbformat_minor": 4
}
