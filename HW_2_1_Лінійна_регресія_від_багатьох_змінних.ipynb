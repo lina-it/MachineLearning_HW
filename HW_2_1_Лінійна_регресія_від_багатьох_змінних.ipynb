{
 "cells": [
  {
   "cell_type": "markdown",
   "metadata": {
    "id": "87fwNK3xoy5K"
   },
   "source": [
    "В цьому домашньому завданні ми з вами побудуємо повноцінне ML-рішення реальної ML-задачі. Ви вже маєте всі знання, які для цього потрібні. Дотримуйтесь інструкцій, та користуйтесь матеріалами лекцій, аби виконувати завдання. Тут інструкції будуть детальні, а в подільших завданнях - будуть ставати все менш детальними, аби ви вже починали самостійно структурувати ML-проєкт і до кінця курсу для вас розвʼязати будь-яку ML–задачу було eazy-breezy.\n",
    "\n",
    "## Dataset\n",
    "\n",
    "Будемо працювати з набором даних `cars.csv`, який описує автомобілі і їх ціну у індійських рупіях :) Мета - передбачити ціну авто за його характеристиками. Опис набору даних:\n",
    "\n",
    "| Назва рядка            | Опис                                                                                                                                                 |\n",
    "|------------------------|--------------------------------------------------------------------------------------------------------------------------------------------------------|\n",
    "| Car_ID                 | Унікальний ідентифікатор для кожного оголошення про автомобіль.                                                                                         |\n",
    "| Brand                  | Бренд або виробник автомобіля (наприклад, Toyota, Honda, Ford тощо).                                                                                     |\n",
    "| Model                  | Модель автомобіля (наприклад, Camry, Civic, Mustang тощо).                                                                                               |\n",
    "| Year                   | Рік виготовлення автомобіля.                                                                                                                            |\n",
    "| Kilometers_Driven      | Загальний пробіг автомобіля у кілометрах.                                                                                                               |\n",
    "| Fuel_Type              | Тип палива, який використовує автомобіль (наприклад, бензин, дизель, електро тощо).                                                                      |\n",
    "| Transmission           | Тип трансмісії автомобіля (наприклад, механічна, автоматична).                                                                                           |\n",
    "| Owner_Type             | Кількість попередніх власників автомобіля (наприклад, перший, другий, третій).                                                                           |\n",
    "| Mileage                | Паливна ефективність автомобіля у кілометрах на літр.                                                                                                   |\n",
    "| Engine                 | Об'єм двигуна автомобіля в кубічних сантиметрах (CC).                                                                                                   |\n",
    "| Power                  | Максимальна потужність автомобіля в кінських силах (bhp).                                                                                               |\n",
    "| Seats                  | Кількість місць в автомобілі.                                                                                                                           |\n",
    "| Price                  | Вартість автомобіля в INR (індійські рупії), що є цільовою змінною для прогнозування.                                                                   |"
   ]
  },
  {
   "cell_type": "markdown",
   "metadata": {
    "id": "52f35fee",
    "papermill": {
     "duration": 0.006069,
     "end_time": "2024-05-08T20:04:53.925383",
     "exception": false,
     "start_time": "2024-05-08T20:04:53.919314",
     "status": "completed"
    },
    "tags": []
   },
   "source": [
    "# Імпорти\n",
    "\n",
    "Для зручності рекомендую всі імпорти розмістити тут нагорі, аби коли ви перезавантажували ноутбук, одразу можна було в один запуск клітинки імпортувати всі потрібні бібліотеки."
   ]
  },
  {
   "cell_type": "code",
   "execution_count": 1,
   "metadata": {
    "id": "0a49b1bb",
    "papermill": {
     "duration": 2.43769,
     "end_time": "2024-05-08T20:04:56.369349",
     "exception": false,
     "start_time": "2024-05-08T20:04:53.931659",
     "status": "completed"
    },
    "tags": []
   },
   "outputs": [],
   "source": [
    "import matplotlib.pyplot as plt\n",
    "import numpy as np\n",
    "import pandas as pd\n",
    "import plotly.express as px\n",
    "import seaborn as sns"
   ]
  },
  {
   "cell_type": "markdown",
   "metadata": {
    "id": "mpKIfgg-FV98"
   },
   "source": [
    "# Знайомство з даними"
   ]
  },
  {
   "cell_type": "markdown",
   "metadata": {
    "id": "fc07024e",
    "papermill": {
     "duration": 0.006026,
     "end_time": "2024-05-08T20:04:56.381857",
     "exception": false,
     "start_time": "2024-05-08T20:04:56.375831",
     "status": "completed"
    },
    "tags": []
   },
   "source": [
    "**Завдання 1.** Завантажте набір даних `cars.csv` в pandas.DataFrame. Виведіть перші 5 записів."
   ]
  },
  {
   "cell_type": "code",
   "execution_count": 2,
   "metadata": {
    "id": "lKtSXyENfJxD"
   },
   "outputs": [],
   "source": [
    "cars_df = pd.read_csv(\"C:/Users/linam/ML_Projects/Lectures/2.1/cars.csv\")"
   ]
  },
  {
   "cell_type": "code",
   "execution_count": 3,
   "metadata": {},
   "outputs": [
    {
     "data": {
      "text/html": [
       "<div>\n",
       "<style scoped>\n",
       "    .dataframe tbody tr th:only-of-type {\n",
       "        vertical-align: middle;\n",
       "    }\n",
       "\n",
       "    .dataframe tbody tr th {\n",
       "        vertical-align: top;\n",
       "    }\n",
       "\n",
       "    .dataframe thead th {\n",
       "        text-align: right;\n",
       "    }\n",
       "</style>\n",
       "<table border=\"1\" class=\"dataframe\">\n",
       "  <thead>\n",
       "    <tr style=\"text-align: right;\">\n",
       "      <th></th>\n",
       "      <th>Car_ID</th>\n",
       "      <th>Brand</th>\n",
       "      <th>Model</th>\n",
       "      <th>Year</th>\n",
       "      <th>Kilometers_Driven</th>\n",
       "      <th>Fuel_Type</th>\n",
       "      <th>Transmission</th>\n",
       "      <th>Owner_Type</th>\n",
       "      <th>Mileage</th>\n",
       "      <th>Engine</th>\n",
       "      <th>Power</th>\n",
       "      <th>Seats</th>\n",
       "      <th>Price</th>\n",
       "    </tr>\n",
       "  </thead>\n",
       "  <tbody>\n",
       "    <tr>\n",
       "      <th>0</th>\n",
       "      <td>1</td>\n",
       "      <td>Toyota</td>\n",
       "      <td>Corolla</td>\n",
       "      <td>2018</td>\n",
       "      <td>50000</td>\n",
       "      <td>Petrol</td>\n",
       "      <td>Manual</td>\n",
       "      <td>First</td>\n",
       "      <td>15</td>\n",
       "      <td>1498</td>\n",
       "      <td>108</td>\n",
       "      <td>5</td>\n",
       "      <td>800000</td>\n",
       "    </tr>\n",
       "    <tr>\n",
       "      <th>1</th>\n",
       "      <td>2</td>\n",
       "      <td>Honda</td>\n",
       "      <td>Civic</td>\n",
       "      <td>2019</td>\n",
       "      <td>40000</td>\n",
       "      <td>Petrol</td>\n",
       "      <td>Automatic</td>\n",
       "      <td>Second</td>\n",
       "      <td>17</td>\n",
       "      <td>1597</td>\n",
       "      <td>140</td>\n",
       "      <td>5</td>\n",
       "      <td>1000000</td>\n",
       "    </tr>\n",
       "    <tr>\n",
       "      <th>2</th>\n",
       "      <td>3</td>\n",
       "      <td>Ford</td>\n",
       "      <td>Mustang</td>\n",
       "      <td>2017</td>\n",
       "      <td>20000</td>\n",
       "      <td>Petrol</td>\n",
       "      <td>Automatic</td>\n",
       "      <td>First</td>\n",
       "      <td>10</td>\n",
       "      <td>4951</td>\n",
       "      <td>395</td>\n",
       "      <td>4</td>\n",
       "      <td>2500000</td>\n",
       "    </tr>\n",
       "    <tr>\n",
       "      <th>3</th>\n",
       "      <td>4</td>\n",
       "      <td>Maruti</td>\n",
       "      <td>Swift</td>\n",
       "      <td>2020</td>\n",
       "      <td>30000</td>\n",
       "      <td>Diesel</td>\n",
       "      <td>Manual</td>\n",
       "      <td>Third</td>\n",
       "      <td>23</td>\n",
       "      <td>1248</td>\n",
       "      <td>74</td>\n",
       "      <td>5</td>\n",
       "      <td>600000</td>\n",
       "    </tr>\n",
       "    <tr>\n",
       "      <th>4</th>\n",
       "      <td>5</td>\n",
       "      <td>Hyundai</td>\n",
       "      <td>Sonata</td>\n",
       "      <td>2016</td>\n",
       "      <td>60000</td>\n",
       "      <td>Diesel</td>\n",
       "      <td>Automatic</td>\n",
       "      <td>Second</td>\n",
       "      <td>18</td>\n",
       "      <td>1999</td>\n",
       "      <td>194</td>\n",
       "      <td>5</td>\n",
       "      <td>850000</td>\n",
       "    </tr>\n",
       "  </tbody>\n",
       "</table>\n",
       "</div>"
      ],
      "text/plain": [
       "   Car_ID    Brand    Model  Year  Kilometers_Driven Fuel_Type Transmission  \\\n",
       "0       1   Toyota  Corolla  2018              50000    Petrol       Manual   \n",
       "1       2    Honda    Civic  2019              40000    Petrol    Automatic   \n",
       "2       3     Ford  Mustang  2017              20000    Petrol    Automatic   \n",
       "3       4   Maruti    Swift  2020              30000    Diesel       Manual   \n",
       "4       5  Hyundai   Sonata  2016              60000    Diesel    Automatic   \n",
       "\n",
       "  Owner_Type  Mileage  Engine  Power  Seats    Price  \n",
       "0      First       15    1498    108      5   800000  \n",
       "1     Second       17    1597    140      5  1000000  \n",
       "2      First       10    4951    395      4  2500000  \n",
       "3      Third       23    1248     74      5   600000  \n",
       "4     Second       18    1999    194      5   850000  "
      ]
     },
     "execution_count": 3,
     "metadata": {},
     "output_type": "execute_result"
    }
   ],
   "source": [
    "cars_df.head()"
   ]
  },
  {
   "cell_type": "markdown",
   "metadata": {
    "id": "BlayjhivF7Ha"
   },
   "source": [
    "**Завдання 2.** Виведіть типи даних колонок даних, а також дослідіть, які по факту типи даних мають записи в кожній колонці (тип `object` може містити різні типи даних) і скільки значень є в кожній категоріальній колонці.\n",
    "\n",
    "Напишіть висновок, скільки в наборі даних числових та категоріальних колонок кожного з трьох різних типів (бінарна, мільтикатегоріальна без порядку, мультикатегоріальна з порядком). Шаблон висновку\n",
    "\n",
    "```\n",
    "В наборі даних 10 числових і 10 категоріальних колонок з них\n",
    "- 2 бінарні (мають лише 2 значення)\n",
    "- 6 мультикатегоріальних (більше 2х значень) зі значеннями, для яких немає відношення порядку\n",
    "- 2 колонки, в яких можна встановити відношення порядку (наприклад Small<Medium<Large)\n",
    "```\n",
    "\n",
    "Якщо не знаєте, як це зробити з `pandas` - ось підказка, які методи можуть допомогти вам виконати це завдання\n",
    "\n",
    "- pandas.DataFrame.info()\n",
    "- pandas.DataFrame.dtypes\n",
    "- pandas.DataFrame.loc[...]\n",
    "- pandas.DataFrame.select_dtypes(...)\n",
    "- pandas.Series.unique()\n",
    "- pandas.Series.nunique()\n",
    "\n",
    "Детальніше ознайомитись з кожним ви можете в [документації](https://pandas.pydata.org/docs/reference/frame.html), або написати в окремій клітинці знак питання і назву методу (тільки приберіть це перед здачею, бо перегляд документації - не допомагає зрозуміти дані і хід думок, а Ваша робота - це як презентація замовнику зробленої задачі).\n"
   ]
  },
  {
   "cell_type": "code",
   "execution_count": 4,
   "metadata": {},
   "outputs": [
    {
     "data": {
      "text/plain": [
       "\u001b[1;31mSignature:\u001b[0m\n",
       "\u001b[0mpd\u001b[0m\u001b[1;33m.\u001b[0m\u001b[0mDataFrame\u001b[0m\u001b[1;33m.\u001b[0m\u001b[0minfo\u001b[0m\u001b[1;33m(\u001b[0m\u001b[1;33m\n",
       "\u001b[0m    \u001b[0mself\u001b[0m\u001b[1;33m,\u001b[0m\u001b[1;33m\n",
       "\u001b[0m    \u001b[0mverbose\u001b[0m\u001b[1;33m:\u001b[0m \u001b[1;34m'bool | None'\u001b[0m \u001b[1;33m=\u001b[0m \u001b[1;32mNone\u001b[0m\u001b[1;33m,\u001b[0m\u001b[1;33m\n",
       "\u001b[0m    \u001b[0mbuf\u001b[0m\u001b[1;33m:\u001b[0m \u001b[1;34m'WriteBuffer[str] | None'\u001b[0m \u001b[1;33m=\u001b[0m \u001b[1;32mNone\u001b[0m\u001b[1;33m,\u001b[0m\u001b[1;33m\n",
       "\u001b[0m    \u001b[0mmax_cols\u001b[0m\u001b[1;33m:\u001b[0m \u001b[1;34m'int | None'\u001b[0m \u001b[1;33m=\u001b[0m \u001b[1;32mNone\u001b[0m\u001b[1;33m,\u001b[0m\u001b[1;33m\n",
       "\u001b[0m    \u001b[0mmemory_usage\u001b[0m\u001b[1;33m:\u001b[0m \u001b[1;34m'bool | str | None'\u001b[0m \u001b[1;33m=\u001b[0m \u001b[1;32mNone\u001b[0m\u001b[1;33m,\u001b[0m\u001b[1;33m\n",
       "\u001b[0m    \u001b[0mshow_counts\u001b[0m\u001b[1;33m:\u001b[0m \u001b[1;34m'bool | None'\u001b[0m \u001b[1;33m=\u001b[0m \u001b[1;32mNone\u001b[0m\u001b[1;33m,\u001b[0m\u001b[1;33m\n",
       "\u001b[0m\u001b[1;33m)\u001b[0m \u001b[1;33m->\u001b[0m \u001b[1;34m'None'\u001b[0m\u001b[1;33m\u001b[0m\u001b[1;33m\u001b[0m\u001b[0m\n",
       "\u001b[1;31mDocstring:\u001b[0m\n",
       "Print a concise summary of a DataFrame.\n",
       "\n",
       "This method prints information about a DataFrame including\n",
       "the index dtype and columns, non-null values and memory usage.\n",
       "\n",
       "Parameters\n",
       "----------\n",
       "verbose : bool, optional\n",
       "    Whether to print the full summary. By default, the setting in\n",
       "    ``pandas.options.display.max_info_columns`` is followed.\n",
       "buf : writable buffer, defaults to sys.stdout\n",
       "    Where to send the output. By default, the output is printed to\n",
       "    sys.stdout. Pass a writable buffer if you need to further process\n",
       "    the output.\n",
       "max_cols : int, optional\n",
       "    When to switch from the verbose to the truncated output. If the\n",
       "    DataFrame has more than `max_cols` columns, the truncated output\n",
       "    is used. By default, the setting in\n",
       "    ``pandas.options.display.max_info_columns`` is used.\n",
       "memory_usage : bool, str, optional\n",
       "    Specifies whether total memory usage of the DataFrame\n",
       "    elements (including the index) should be displayed. By default,\n",
       "    this follows the ``pandas.options.display.memory_usage`` setting.\n",
       "\n",
       "    True always show memory usage. False never shows memory usage.\n",
       "    A value of 'deep' is equivalent to \"True with deep introspection\".\n",
       "    Memory usage is shown in human-readable units (base-2\n",
       "    representation). Without deep introspection a memory estimation is\n",
       "    made based in column dtype and number of rows assuming values\n",
       "    consume the same memory amount for corresponding dtypes. With deep\n",
       "    memory introspection, a real memory usage calculation is performed\n",
       "    at the cost of computational resources. See the\n",
       "    :ref:`Frequently Asked Questions <df-memory-usage>` for more\n",
       "    details.\n",
       "show_counts : bool, optional\n",
       "    Whether to show the non-null counts. By default, this is shown\n",
       "    only if the DataFrame is smaller than\n",
       "    ``pandas.options.display.max_info_rows`` and\n",
       "    ``pandas.options.display.max_info_columns``. A value of True always\n",
       "    shows the counts, and False never shows the counts.\n",
       "\n",
       "Returns\n",
       "-------\n",
       "None\n",
       "    This method prints a summary of a DataFrame and returns None.\n",
       "\n",
       "See Also\n",
       "--------\n",
       "DataFrame.describe: Generate descriptive statistics of DataFrame\n",
       "    columns.\n",
       "DataFrame.memory_usage: Memory usage of DataFrame columns.\n",
       "\n",
       "Examples\n",
       "--------\n",
       ">>> int_values = [1, 2, 3, 4, 5]\n",
       ">>> text_values = ['alpha', 'beta', 'gamma', 'delta', 'epsilon']\n",
       ">>> float_values = [0.0, 0.25, 0.5, 0.75, 1.0]\n",
       ">>> df = pd.DataFrame({\"int_col\": int_values, \"text_col\": text_values,\n",
       "...                   \"float_col\": float_values})\n",
       ">>> df\n",
       "    int_col text_col  float_col\n",
       "0        1    alpha       0.00\n",
       "1        2     beta       0.25\n",
       "2        3    gamma       0.50\n",
       "3        4    delta       0.75\n",
       "4        5  epsilon       1.00\n",
       "\n",
       "Prints information of all columns:\n",
       "\n",
       ">>> df.info(verbose=True)\n",
       "<class 'pandas.core.frame.DataFrame'>\n",
       "RangeIndex: 5 entries, 0 to 4\n",
       "Data columns (total 3 columns):\n",
       " #   Column     Non-Null Count  Dtype\n",
       "---  ------     --------------  -----\n",
       " 0   int_col    5 non-null      int64\n",
       " 1   text_col   5 non-null      object\n",
       " 2   float_col  5 non-null      float64\n",
       "dtypes: float64(1), int64(1), object(1)\n",
       "memory usage: 248.0+ bytes\n",
       "\n",
       "Prints a summary of columns count and its dtypes but not per column\n",
       "information:\n",
       "\n",
       ">>> df.info(verbose=False)\n",
       "<class 'pandas.core.frame.DataFrame'>\n",
       "RangeIndex: 5 entries, 0 to 4\n",
       "Columns: 3 entries, int_col to float_col\n",
       "dtypes: float64(1), int64(1), object(1)\n",
       "memory usage: 248.0+ bytes\n",
       "\n",
       "Pipe output of DataFrame.info to buffer instead of sys.stdout, get\n",
       "buffer content and writes to a text file:\n",
       "\n",
       ">>> import io\n",
       ">>> buffer = io.StringIO()\n",
       ">>> df.info(buf=buffer)\n",
       ">>> s = buffer.getvalue()\n",
       ">>> with open(\"df_info.txt\", \"w\",\n",
       "...           encoding=\"utf-8\") as f:  # doctest: +SKIP\n",
       "...     f.write(s)\n",
       "260\n",
       "\n",
       "The `memory_usage` parameter allows deep introspection mode, specially\n",
       "useful for big DataFrames and fine-tune memory optimization:\n",
       "\n",
       ">>> random_strings_array = np.random.choice(['a', 'b', 'c'], 10 ** 6)\n",
       ">>> df = pd.DataFrame({\n",
       "...     'column_1': np.random.choice(['a', 'b', 'c'], 10 ** 6),\n",
       "...     'column_2': np.random.choice(['a', 'b', 'c'], 10 ** 6),\n",
       "...     'column_3': np.random.choice(['a', 'b', 'c'], 10 ** 6)\n",
       "... })\n",
       ">>> df.info()\n",
       "<class 'pandas.core.frame.DataFrame'>\n",
       "RangeIndex: 1000000 entries, 0 to 999999\n",
       "Data columns (total 3 columns):\n",
       " #   Column    Non-Null Count    Dtype\n",
       "---  ------    --------------    -----\n",
       " 0   column_1  1000000 non-null  object\n",
       " 1   column_2  1000000 non-null  object\n",
       " 2   column_3  1000000 non-null  object\n",
       "dtypes: object(3)\n",
       "memory usage: 22.9+ MB\n",
       "\n",
       ">>> df.info(memory_usage='deep')\n",
       "<class 'pandas.core.frame.DataFrame'>\n",
       "RangeIndex: 1000000 entries, 0 to 999999\n",
       "Data columns (total 3 columns):\n",
       " #   Column    Non-Null Count    Dtype\n",
       "---  ------    --------------    -----\n",
       " 0   column_1  1000000 non-null  object\n",
       " 1   column_2  1000000 non-null  object\n",
       " 2   column_3  1000000 non-null  object\n",
       "dtypes: object(3)\n",
       "memory usage: 165.9 MB\n",
       "\u001b[1;31mFile:\u001b[0m      c:\\users\\linam\\appdata\\local\\programs\\python\\python312\\lib\\site-packages\\pandas\\core\\frame.py\n",
       "\u001b[1;31mType:\u001b[0m      function"
      ]
     },
     "metadata": {},
     "output_type": "display_data"
    }
   ],
   "source": [
    "# приклад як викликати документацію, якщо у Вас pandas імпортований як pd\n",
    "?pd.DataFrame.info"
   ]
  },
  {
   "cell_type": "code",
   "execution_count": 5,
   "metadata": {
    "id": "a9bTpxKtfL7H"
   },
   "outputs": [
    {
     "name": "stdout",
     "output_type": "stream",
     "text": [
      "<class 'pandas.core.frame.DataFrame'>\n",
      "RangeIndex: 100 entries, 0 to 99\n",
      "Data columns (total 13 columns):\n",
      " #   Column             Non-Null Count  Dtype \n",
      "---  ------             --------------  ----- \n",
      " 0   Car_ID             100 non-null    int64 \n",
      " 1   Brand              100 non-null    object\n",
      " 2   Model              100 non-null    object\n",
      " 3   Year               100 non-null    int64 \n",
      " 4   Kilometers_Driven  100 non-null    int64 \n",
      " 5   Fuel_Type          100 non-null    object\n",
      " 6   Transmission       100 non-null    object\n",
      " 7   Owner_Type         100 non-null    object\n",
      " 8   Mileage            100 non-null    int64 \n",
      " 9   Engine             100 non-null    int64 \n",
      " 10  Power              100 non-null    int64 \n",
      " 11  Seats              100 non-null    int64 \n",
      " 12  Price              100 non-null    int64 \n",
      "dtypes: int64(8), object(5)\n",
      "memory usage: 10.3+ KB\n"
     ]
    }
   ],
   "source": [
    "cars_df.info(verbose = True, show_counts=True)"
   ]
  },
  {
   "cell_type": "code",
   "execution_count": 6,
   "metadata": {},
   "outputs": [
    {
     "data": {
      "text/plain": [
       "(100, 13)"
      ]
     },
     "execution_count": 6,
     "metadata": {},
     "output_type": "execute_result"
    }
   ],
   "source": [
    "cars_df.shape"
   ]
  },
  {
   "cell_type": "code",
   "execution_count": 7,
   "metadata": {},
   "outputs": [
    {
     "data": {
      "text/plain": [
       "<bound method NDFrame.describe of     Car_ID     Brand          Model  Year  Kilometers_Driven Fuel_Type  \\\n",
       "0        1    Toyota        Corolla  2018              50000    Petrol   \n",
       "1        2     Honda          Civic  2019              40000    Petrol   \n",
       "2        3      Ford        Mustang  2017              20000    Petrol   \n",
       "3        4    Maruti          Swift  2020              30000    Diesel   \n",
       "4        5   Hyundai         Sonata  2016              60000    Diesel   \n",
       "..     ...       ...            ...   ...                ...       ...   \n",
       "95      96  Mercedes        C-Class  2019              22000    Diesel   \n",
       "96      97    Toyota  Innova Crysta  2017              38000    Diesel   \n",
       "97      98      Ford       EcoSport  2018              26000    Petrol   \n",
       "98      99   Hyundai          Verna  2019              24000    Petrol   \n",
       "99     100      Tata         Altroz  2020              18000    Petrol   \n",
       "\n",
       "   Transmission Owner_Type  Mileage  Engine  Power  Seats    Price  \n",
       "0        Manual      First       15    1498    108      5   800000  \n",
       "1     Automatic     Second       17    1597    140      5  1000000  \n",
       "2     Automatic      First       10    4951    395      4  2500000  \n",
       "3        Manual      Third       23    1248     74      5   600000  \n",
       "4     Automatic     Second       18    1999    194      5   850000  \n",
       "..          ...        ...      ...     ...    ...    ...      ...  \n",
       "95    Automatic      First       16    1950    191      5  2900000  \n",
       "96       Manual     Second       13    2755    171      7  1400000  \n",
       "97       Manual      Third       18    1497    121      5   750000  \n",
       "98    Automatic     Second       17    1497    113      5   850000  \n",
       "99       Manual      First       20    1199     85      5   600000  \n",
       "\n",
       "[100 rows x 13 columns]>"
      ]
     },
     "execution_count": 7,
     "metadata": {},
     "output_type": "execute_result"
    }
   ],
   "source": [
    "cars_df.describe"
   ]
  },
  {
   "cell_type": "code",
   "execution_count": 8,
   "metadata": {},
   "outputs": [
    {
     "data": {
      "text/plain": [
       "Car_ID                int64\n",
       "Brand                object\n",
       "Model                object\n",
       "Year                  int64\n",
       "Kilometers_Driven     int64\n",
       "Fuel_Type            object\n",
       "Transmission         object\n",
       "Owner_Type           object\n",
       "Mileage               int64\n",
       "Engine                int64\n",
       "Power                 int64\n",
       "Seats                 int64\n",
       "Price                 int64\n",
       "dtype: object"
      ]
     },
     "execution_count": 8,
     "metadata": {},
     "output_type": "execute_result"
    }
   ],
   "source": [
    "cars_df.dtypes"
   ]
  },
  {
   "cell_type": "code",
   "execution_count": 9,
   "metadata": {},
   "outputs": [
    {
     "data": {
      "text/plain": [
       "Index(['Brand', 'Model', 'Fuel_Type', 'Transmission', 'Owner_Type'], dtype='object')"
      ]
     },
     "execution_count": 9,
     "metadata": {},
     "output_type": "execute_result"
    }
   ],
   "source": [
    "cars_df.select_dtypes(include = \"object\").columns"
   ]
  },
  {
   "cell_type": "code",
   "execution_count": 10,
   "metadata": {},
   "outputs": [
    {
     "data": {
      "text/plain": [
       "5"
      ]
     },
     "execution_count": 10,
     "metadata": {},
     "output_type": "execute_result"
    }
   ],
   "source": [
    "len(cars_df.select_dtypes(include = \"object\").columns)"
   ]
  },
  {
   "cell_type": "code",
   "execution_count": 11,
   "metadata": {},
   "outputs": [
    {
     "data": {
      "text/plain": [
       "Index(['Car_ID', 'Year', 'Kilometers_Driven', 'Mileage', 'Engine', 'Power',\n",
       "       'Seats', 'Price'],\n",
       "      dtype='object')"
      ]
     },
     "execution_count": 11,
     "metadata": {},
     "output_type": "execute_result"
    }
   ],
   "source": [
    "cars_df.select_dtypes(include = \"number\").columns"
   ]
  },
  {
   "cell_type": "code",
   "execution_count": 12,
   "metadata": {},
   "outputs": [
    {
     "data": {
      "text/plain": [
       "8"
      ]
     },
     "execution_count": 12,
     "metadata": {},
     "output_type": "execute_result"
    }
   ],
   "source": [
    "len(cars_df.select_dtypes(include = \"number\").columns)"
   ]
  },
  {
   "cell_type": "code",
   "execution_count": 13,
   "metadata": {},
   "outputs": [],
   "source": [
    "def cars_unique(dataframe, column):\n",
    "    unique_count = dataframe[column].nunique()  # Кількість унікальних значень\n",
    "    unique_values = dataframe[column].unique()  # Самі унікальні значення\n",
    "    print(\"Кількість унікальних значень:\", unique_count)\n",
    "    print(\"Унікальні значення:\", unique_values)\n",
    "    return unique_count, unique_values"
   ]
  },
  {
   "cell_type": "code",
   "execution_count": 14,
   "metadata": {},
   "outputs": [
    {
     "name": "stdout",
     "output_type": "stream",
     "text": [
      "Кількість унікальних значень: 11\n",
      "Унікальні значення: ['Toyota' 'Honda' 'Ford' 'Maruti' 'Hyundai' 'Tata' 'Mahindra' 'Volkswagen'\n",
      " 'Audi' 'BMW' 'Mercedes']\n"
     ]
    }
   ],
   "source": [
    "unique_count, unique_values = cars_unique(cars_df, 'Brand')"
   ]
  },
  {
   "cell_type": "code",
   "execution_count": 15,
   "metadata": {},
   "outputs": [
    {
     "name": "stdout",
     "output_type": "stream",
     "text": [
      "Кількість унікальних значень: 58\n",
      "Унікальні значення: ['Corolla' 'Civic' 'Mustang' 'Swift' 'Sonata' 'Nexon' 'Scorpio' 'Polo'\n",
      " 'A4' 'X1' 'C-Class' 'Endeavour' 'Creta' 'Harrier' 'Ertiga' 'City'\n",
      " 'Tiguan' 'Q3' '5 Series' 'GLC' 'Innova' 'Figo' 'Verna' 'Altroz' 'Thar'\n",
      " 'Passat' 'A6' 'X3' 'E-Class' 'Fortuner' 'Aspire' 'Elantra' 'Safari'\n",
      " 'Vitara' 'WR-V' 'Ameo' 'A3' '7 Series' 'GLE' 'Yaris' 'Ranger' 'Santro'\n",
      " 'Tigor' 'S-Cross' 'BR-V' 'T-Roc' 'Q7' 'X5' 'GLA' 'Camry' 'Venue' 'Tiago'\n",
      " 'XUV300' 'Vento' 'A5' '3 Series' 'Innova Crysta' 'EcoSport']\n"
     ]
    }
   ],
   "source": [
    "unique_count, unique_values = cars_unique(cars_df, 'Model')"
   ]
  },
  {
   "cell_type": "code",
   "execution_count": 16,
   "metadata": {},
   "outputs": [
    {
     "name": "stdout",
     "output_type": "stream",
     "text": [
      "Кількість унікальних значень: 2\n",
      "Унікальні значення: ['Petrol' 'Diesel']\n"
     ]
    }
   ],
   "source": [
    "unique_count, unique_values = cars_unique(cars_df, 'Fuel_Type')"
   ]
  },
  {
   "cell_type": "code",
   "execution_count": 17,
   "metadata": {},
   "outputs": [
    {
     "name": "stdout",
     "output_type": "stream",
     "text": [
      "Кількість унікальних значень: 2\n",
      "Унікальні значення: ['Manual' 'Automatic']\n"
     ]
    }
   ],
   "source": [
    "unique_count, unique_values = cars_unique(cars_df, 'Transmission')"
   ]
  },
  {
   "cell_type": "code",
   "execution_count": 18,
   "metadata": {},
   "outputs": [
    {
     "name": "stdout",
     "output_type": "stream",
     "text": [
      "Кількість унікальних значень: 3\n",
      "Унікальні значення: ['First' 'Second' 'Third']\n"
     ]
    }
   ],
   "source": [
    "unique_count, unique_values = cars_unique(cars_df, 'Owner_Type')"
   ]
  },
  {
   "cell_type": "code",
   "execution_count": 19,
   "metadata": {},
   "outputs": [],
   "source": [
    "def analyze_column(df, column_name):\n",
    "    if column_name not in df.columns:\n",
    "        return f\"Column '{column_name}' does not exist in the DataFrame.\"\n",
    "    \n",
    "    analysis = {\n",
    "        'Value Counts': df[column_name].value_counts(),\n",
    "        'Quantiles': df[column_name].quantile([0.25, 0.5, 0.75, 1]),\n",
    "        'Mode': df[column_name].mode()[0],\n",
    "        'Mean': df[column_name].mean(),\n",
    "    }\n",
    "    \n",
    "    main_char = f\"Analysis for column: '{column_name}'\\n\"\n",
    "    main_char += \"-\" * 40 + \"\\n\"\n",
    "    \n",
    "    for key, value in analysis.items():\n",
    "        main_char += f\"{key}:\\n{value}\\n\"\n",
    "        main_char += \"-\" * 40 + \"\\n\"\n",
    "    \n",
    "    return main_char"
   ]
  },
  {
   "cell_type": "code",
   "execution_count": 20,
   "metadata": {},
   "outputs": [
    {
     "name": "stdout",
     "output_type": "stream",
     "text": [
      "Analysis for column: 'Year'\n",
      "----------------------------------------\n",
      "Value Counts:\n",
      "Year\n",
      "2018    28\n",
      "2019    28\n",
      "2017    21\n",
      "2020    17\n",
      "2016     4\n",
      "2021     2\n",
      "Name: count, dtype: int64\n",
      "----------------------------------------\n",
      "Quantiles:\n",
      "0.25    2017.75\n",
      "0.50    2018.00\n",
      "0.75    2019.00\n",
      "1.00    2021.00\n",
      "Name: Year, dtype: float64\n",
      "----------------------------------------\n",
      "Mode:\n",
      "2018\n",
      "----------------------------------------\n",
      "Mean:\n",
      "2018.39\n",
      "----------------------------------------\n",
      "\n"
     ]
    }
   ],
   "source": [
    "column_name = 'Year'\n",
    "main_char = analyze_column(cars_df, column_name)\n",
    "print(main_char)"
   ]
  },
  {
   "cell_type": "code",
   "execution_count": 21,
   "metadata": {},
   "outputs": [
    {
     "name": "stdout",
     "output_type": "stream",
     "text": [
      "Analysis for column: 'Kilometers_Driven'\n",
      "----------------------------------------\n",
      "Value Counts:\n",
      "Kilometers_Driven\n",
      "26000    12\n",
      "28000    11\n",
      "38000    11\n",
      "22000    11\n",
      "32000     9\n",
      "18000     8\n",
      "24000     7\n",
      "15000     7\n",
      "30000     6\n",
      "42000     5\n",
      "40000     2\n",
      "50000     2\n",
      "20000     2\n",
      "35000     2\n",
      "10000     2\n",
      "45000     1\n",
      "60000     1\n",
      "25000     1\n",
      "Name: count, dtype: int64\n",
      "----------------------------------------\n",
      "Quantiles:\n",
      "0.25    22000.0\n",
      "0.50    27000.0\n",
      "0.75    32000.0\n",
      "1.00    60000.0\n",
      "Name: Kilometers_Driven, dtype: float64\n",
      "----------------------------------------\n",
      "Mode:\n",
      "26000\n",
      "----------------------------------------\n",
      "Mean:\n",
      "28150.0\n",
      "----------------------------------------\n",
      "\n"
     ]
    }
   ],
   "source": [
    "column_name = 'Kilometers_Driven'\n",
    "main_char = analyze_column(cars_df, column_name)\n",
    "print(main_char)"
   ]
  },
  {
   "cell_type": "code",
   "execution_count": 22,
   "metadata": {},
   "outputs": [
    {
     "name": "stdout",
     "output_type": "stream",
     "text": [
      "Analysis for column: 'Mileage'\n",
      "----------------------------------------\n",
      "Value Counts:\n",
      "Mileage\n",
      "17    18\n",
      "18    15\n",
      "15    11\n",
      "20    10\n",
      "16     8\n",
      "12     8\n",
      "14     6\n",
      "13     5\n",
      "19     5\n",
      "25     3\n",
      "23     3\n",
      "24     3\n",
      "22     2\n",
      "21     2\n",
      "10     1\n",
      "Name: count, dtype: int64\n",
      "----------------------------------------\n",
      "Quantiles:\n",
      "0.25    15.0\n",
      "0.50    17.0\n",
      "0.75    19.0\n",
      "1.00    25.0\n",
      "Name: Mileage, dtype: float64\n",
      "----------------------------------------\n",
      "Mode:\n",
      "17\n",
      "----------------------------------------\n",
      "Mean:\n",
      "17.21\n",
      "----------------------------------------\n",
      "\n"
     ]
    }
   ],
   "source": [
    "column_name = 'Mileage'\n",
    "main_char = analyze_column(cars_df, column_name)\n",
    "print(main_char)"
   ]
  },
  {
   "cell_type": "code",
   "execution_count": 23,
   "metadata": {},
   "outputs": [
    {
     "name": "stdout",
     "output_type": "stream",
     "text": [
      "Analysis for column: 'Engine'\n",
      "----------------------------------------\n",
      "Value Counts:\n",
      "Engine\n",
      "1498    8\n",
      "1497    7\n",
      "1968    6\n",
      "1462    5\n",
      "2755    5\n",
      "1199    5\n",
      "1950    4\n",
      "1995    4\n",
      "1197    4\n",
      "1194    3\n",
      "1582    3\n",
      "1956    3\n",
      "2198    3\n",
      "1395    3\n",
      "2998    2\n",
      "2967    2\n",
      "1047    2\n",
      "1984    2\n",
      "2184    2\n",
      "1991    2\n",
      "2487    2\n",
      "2261    2\n",
      "1598    2\n",
      "2143    2\n",
      "2993    2\n",
      "2996    2\n",
      "1496    2\n",
      "1086    2\n",
      "1998    2\n",
      "1248    1\n",
      "1597    1\n",
      "4951    1\n",
      "999     1\n",
      "2179    1\n",
      "1198    1\n",
      "1999    1\n",
      "Name: count, dtype: int64\n",
      "----------------------------------------\n",
      "Quantiles:\n",
      "0.25    1462.0\n",
      "0.50    1774.0\n",
      "0.75    2143.0\n",
      "1.00    4951.0\n",
      "Name: Engine, dtype: float64\n",
      "----------------------------------------\n",
      "Mode:\n",
      "1498\n",
      "----------------------------------------\n",
      "Mean:\n",
      "1855.23\n",
      "----------------------------------------\n",
      "\n"
     ]
    }
   ],
   "source": [
    "column_name = 'Engine'\n",
    "main_char = analyze_column(cars_df, column_name)\n",
    "print(main_char)"
   ]
  },
  {
   "cell_type": "code",
   "execution_count": 24,
   "metadata": {},
   "outputs": [
    {
     "name": "stdout",
     "output_type": "stream",
     "text": [
      "Analysis for column: 'Power'\n",
      "----------------------------------------\n",
      "Value Counts:\n",
      "Power\n",
      "103    7\n",
      "187    6\n",
      "98     5\n",
      "148    5\n",
      "174    4\n",
      "191    4\n",
      "241    3\n",
      "74     3\n",
      "126    3\n",
      "94     3\n",
      "85     3\n",
      "171    3\n",
      "113    3\n",
      "158    3\n",
      "108    2\n",
      "140    2\n",
      "170    2\n",
      "176    2\n",
      "396    2\n",
      "106    2\n",
      "130    2\n",
      "362    2\n",
      "261    2\n",
      "150    2\n",
      "84     2\n",
      "115    2\n",
      "258    2\n",
      "81     2\n",
      "68     2\n",
      "69     2\n",
      "245    2\n",
      "335    2\n",
      "121    2\n",
      "76     1\n",
      "194    1\n",
      "395    1\n",
      "190    1\n",
      "167    1\n",
      "141    1\n",
      "181    1\n",
      "Name: count, dtype: int64\n",
      "----------------------------------------\n",
      "Quantiles:\n",
      "0.25    103.0\n",
      "0.50    148.0\n",
      "0.75    187.0\n",
      "1.00    396.0\n",
      "Name: Power, dtype: float64\n",
      "----------------------------------------\n",
      "Mode:\n",
      "103\n",
      "----------------------------------------\n",
      "Mean:\n",
      "158.13\n",
      "----------------------------------------\n",
      "\n"
     ]
    }
   ],
   "source": [
    "column_name = 'Power'\n",
    "main_char = analyze_column(cars_df, column_name)\n",
    "print(main_char)"
   ]
  },
  {
   "cell_type": "code",
   "execution_count": 25,
   "metadata": {},
   "outputs": [
    {
     "name": "stdout",
     "output_type": "stream",
     "text": [
      "Analysis for column: 'Seats'\n",
      "----------------------------------------\n",
      "Value Counts:\n",
      "Seats\n",
      "5    81\n",
      "7    14\n",
      "4     5\n",
      "Name: count, dtype: int64\n",
      "----------------------------------------\n",
      "Quantiles:\n",
      "0.25    5.0\n",
      "0.50    5.0\n",
      "0.75    5.0\n",
      "1.00    7.0\n",
      "Name: Seats, dtype: float64\n",
      "----------------------------------------\n",
      "Mode:\n",
      "5\n",
      "----------------------------------------\n",
      "Mean:\n",
      "5.23\n",
      "----------------------------------------\n",
      "\n"
     ]
    }
   ],
   "source": [
    "column_name = 'Seats'\n",
    "main_char = analyze_column(cars_df, column_name)\n",
    "print(main_char)"
   ]
  },
  {
   "cell_type": "code",
   "execution_count": 26,
   "metadata": {},
   "outputs": [
    {
     "name": "stdout",
     "output_type": "stream",
     "text": [
      "Analysis for column: 'Price'\n",
      "----------------------------------------\n",
      "Value Counts:\n",
      "Price\n",
      "850000     8\n",
      "600000     6\n",
      "650000     6\n",
      "500000     6\n",
      "700000     6\n",
      "2700000    5\n",
      "1600000    5\n",
      "750000     5\n",
      "2800000    4\n",
      "3200000    4\n",
      "2500000    4\n",
      "1800000    3\n",
      "2000000    3\n",
      "800000     3\n",
      "1400000    3\n",
      "3000000    3\n",
      "550000     3\n",
      "1300000    2\n",
      "1500000    2\n",
      "450000     2\n",
      "3500000    2\n",
      "4000000    2\n",
      "1200000    2\n",
      "2600000    2\n",
      "2400000    2\n",
      "2900000    2\n",
      "1900000    1\n",
      "1000000    1\n",
      "2300000    1\n",
      "2200000    1\n",
      "900000     1\n",
      "Name: count, dtype: int64\n",
      "----------------------------------------\n",
      "Quantiles:\n",
      "0.25     700000.0\n",
      "0.50    1300000.0\n",
      "0.75    2500000.0\n",
      "1.00    4000000.0\n",
      "Name: Price, dtype: float64\n",
      "----------------------------------------\n",
      "Mode:\n",
      "850000\n",
      "----------------------------------------\n",
      "Mean:\n",
      "1574000.0\n",
      "----------------------------------------\n",
      "\n"
     ]
    }
   ],
   "source": [
    "# ПРосто для себе глянути, але так як це target, то не аналізуємо сильно.\n",
    "\n",
    "column_name = 'Price'\n",
    "main_char = analyze_column(cars_df, column_name)\n",
    "print(main_char)"
   ]
  },
  {
   "cell_type": "markdown",
   "metadata": {},
   "source": [
    "##### Висновок\n",
    "В наборі даних 8 числових і 5 категоріальних колонок з них\n",
    "- 2 бінарні (мають лише 2 значення): 'Fuel_Type' і 'Transmission'\n",
    "- 3 мультикатегоріальних (більше 2х значень) зі значеннями, для яких немає відношення порядку:\n",
    "  'Brand', 'Model', 'Owner_Type'\n",
    "\n",
    "По числових колонках:\n",
    "'Price' - target, не аналізуємо.\n",
    "'Car_ID' - в принципі, нам не потрібен, не містить ніякої інформації.\n",
    "'Year' - можна було б поділити, але так як тут всього 6 значень, то немає сенсу.\n",
    "'Seats' - всього 3 значення, то теж не перерозподіляємо.\n",
    "'Kilometers_Driven' - можна роздалити на категорії. Вважаю, що найкраще буде розподілити на категорії типу до 20 тис, 21-40 і т.д., так як тут є великий розкид чисел. Для позначення використаємо числа як категорії.\n",
    "'Mileage' - також можемо розділити на: з низькою ефективністю, середноью, високою.\n",
    "'Engine' - \"Малий двигун\", \"Середній двигун\", \"Великий двигун\".\n",
    "'Power' - розділимо на 3 категорії: малопотужні двигуни, середньої потужності і високопотужні.\n",
    "\n",
    "- То ж, у нас є 4 колонки, в яких можна встановити відношення порядку (наприклад Small<Medium<Large)"
   ]
  },
  {
   "cell_type": "code",
   "execution_count": 27,
   "metadata": {},
   "outputs": [],
   "source": [
    "cars_df = cars_df.dropna(subset=[\"Engine\"])"
   ]
  },
  {
   "cell_type": "code",
   "execution_count": 28,
   "metadata": {},
   "outputs": [],
   "source": [
    "cars_df[\"Engine\"] = pd.to_numeric(cars_df[\"Engine\"], errors=\"coerce\")"
   ]
  },
  {
   "cell_type": "code",
   "execution_count": 29,
   "metadata": {},
   "outputs": [],
   "source": [
    "# Створення категорій\n",
    "bins_engine = [0, 1500, 2500, 5000]  # Діапазони\n",
    "labels_engine = [\"Small Engine\", \"Medium Engine\", \"Large Engine\"]\n",
    "\n",
    "cars_df[\"Engine_Category\"] = pd.cut(cars_df[\"Engine\"], bins=bins_engine, labels=labels_engine)"
   ]
  },
  {
   "cell_type": "code",
   "execution_count": 30,
   "metadata": {},
   "outputs": [
    {
     "name": "stdout",
     "output_type": "stream",
     "text": [
      "   Engine Engine_Category\n",
      "0    1498    Small Engine\n",
      "1    1597   Medium Engine\n",
      "2    4951    Large Engine\n",
      "3    1248    Small Engine\n",
      "4    1999   Medium Engine\n"
     ]
    }
   ],
   "source": [
    "print(cars_df[[\"Engine\", \"Engine_Category\"]].head())"
   ]
  },
  {
   "cell_type": "code",
   "execution_count": 31,
   "metadata": {},
   "outputs": [
    {
     "name": "stdout",
     "output_type": "stream",
     "text": [
      "    Mileage Mileage_Category  Power  Power_Category  Kilometers_Driven  \\\n",
      "0        15  Average Mileage    108  Moderate Power              50000   \n",
      "1        17  Average Mileage    140  Moderate Power              40000   \n",
      "2        10      Low Mileage    395      High Power              20000   \n",
      "3        23     High Mileage     74       Low Power              30000   \n",
      "4        18  Average Mileage    194  Moderate Power              60000   \n",
      "..      ...              ...    ...             ...                ...   \n",
      "95       16  Average Mileage    191  Moderate Power              22000   \n",
      "96       13  Average Mileage    171  Moderate Power              38000   \n",
      "97       18  Average Mileage    121  Moderate Power              26000   \n",
      "98       17  Average Mileage    113  Moderate Power              24000   \n",
      "99       20     High Mileage     85       Low Power              18000   \n",
      "\n",
      "   Kilometers_Category  \n",
      "0             41-60 km  \n",
      "1             21-40 km  \n",
      "2              0-20 km  \n",
      "3             21-40 km  \n",
      "4             41-60 km  \n",
      "..                 ...  \n",
      "95            21-40 km  \n",
      "96            21-40 km  \n",
      "97            21-40 km  \n",
      "98            21-40 km  \n",
      "99             0-20 km  \n",
      "\n",
      "[100 rows x 6 columns]\n"
     ]
    }
   ],
   "source": [
    "# Діапазони для категорій\n",
    "mileage_bins = [0, 12, 18, float(\"inf\")]\n",
    "mileage_labels = [\"Low Mileage\", \"Average Mileage\", \"High Mileage\"]\n",
    "\n",
    "power_bins = [0, 100, 200, float(\"inf\")]\n",
    "power_labels = [\"Low Power\", \"Moderate Power\", \"High Power\"]\n",
    "\n",
    "kilometers_bins = [0, 20000, 40000, 60000, 100000, float(\"inf\")]\n",
    "kilometers_labels = [\"0-20 km\", \"21-40 km\", \"41-60 km\", \"61-100 km\", \"100+ km\"]\n",
    "\n",
    "# Створення нових колонок для категорій\n",
    "cars_df[\"Mileage_Category\"] = pd.cut(cars_df[\"Mileage\"], bins=mileage_bins, labels=mileage_labels)\n",
    "cars_df[\"Power_Category\"] = pd.cut(cars_df[\"Power\"], bins=power_bins, labels=power_labels)\n",
    "cars_df[\"Kilometers_Category\"] = pd.cut(cars_df[\"Kilometers_Driven\"], bins=kilometers_bins, labels=kilometers_labels)\n",
    "\n",
    "# Перевірка результату\n",
    "print(cars_df[[\"Mileage\", \"Mileage_Category\", \"Power\", \"Power_Category\", \"Kilometers_Driven\", \"Kilometers_Category\"]])"
   ]
  },
  {
   "cell_type": "markdown",
   "metadata": {
    "id": "feZvNdSXO-tn"
   },
   "source": [
    "**Завдання 3**. Розділіть дані на тренувальні і тест. Відведіть в тест 20%, поставте `random_state=12`. Ми будемо передбачати колонку `Price` - тож, вона є цільовою змінною. В результаті у Вас має бути 4 набори даних `X_train, X_test, y_train, y_test`.\n",
    "\n",
    "Надалі ми всюди тренуємо методи для кодування, масштабування та саму модель тільки на тренувальних даних X_train (та y_train для моделі), а на тестувальних лише використовуємо вже навчені методи для кодування, масштабування і модель викликаючи в них `transform()` (для методів обробки даних) або `predict()` (для моделі).\n",
    "\n",
    "І так само треба робити завжди."
   ]
  },
  {
   "cell_type": "code",
   "execution_count": 32,
   "metadata": {
    "id": "lkugT6mmfM2p"
   },
   "outputs": [],
   "source": [
    "from sklearn.model_selection import train_test_split\n",
    "from sklearn.preprocessing import StandardScaler\n",
    "from sklearn.linear_model import LinearRegression\n",
    "from sklearn.metrics import mean_squared_error"
   ]
  },
  {
   "cell_type": "code",
   "execution_count": 64,
   "metadata": {},
   "outputs": [],
   "source": [
    "inputs = cars_df[['Year', 'Kilometers_Driven', 'Mileage', 'Engine', 'Power', 'Seats']]\n",
    "targets = cars_df[\"Price\"] "
   ]
  },
  {
   "cell_type": "code",
   "execution_count": 65,
   "metadata": {},
   "outputs": [],
   "source": [
    "X_train, X_test, y_train, y_test = train_test_split(inputs, targets, test_size=0.2, random_state=12)"
   ]
  },
  {
   "cell_type": "code",
   "execution_count": 66,
   "metadata": {},
   "outputs": [
    {
     "name": "stdout",
     "output_type": "stream",
     "text": [
      "Test Loss: 177395690368.06238\n"
     ]
    }
   ],
   "source": [
    "# Навчання моделі на тренувальних даних\n",
    "model = LinearRegression().fit(X_train, y_train)\n",
    "\n",
    "# Прогнозування на тестових даних\n",
    "predictions_test = model.predict(X_test)\n",
    "\n",
    "# Обчислення втрат (Test Loss)\n",
    "test_loss = mean_squared_error(y_test, predictions_test)\n",
    "print('Test Loss:', test_loss)"
   ]
  },
  {
   "cell_type": "code",
   "execution_count": 67,
   "metadata": {},
   "outputs": [
    {
     "name": "stdout",
     "output_type": "stream",
     "text": [
      "Training Loss: 266597311876.89288\n"
     ]
    }
   ],
   "source": [
    "# Прогнозування на тренувальних даних\n",
    "predictions_train = model.predict(X_train)\n",
    "\n",
    "# Обчислення втрат (Training Loss)\n",
    "training_loss = mean_squared_error(y_train, predictions_train)\n",
    "print('Training Loss:', training_loss)"
   ]
  },
  {
   "cell_type": "markdown",
   "metadata": {},
   "source": [
    "##### Висновок: Дуже великі числа, то ж або великі \"шуми\" в даних, треба посистити ну або... щось неправильно)"
   ]
  },
  {
   "cell_type": "markdown",
   "metadata": {
    "id": "EvzXSbIxKBwR"
   },
   "source": [
    "**Завдання 4**. Кодуємо категоріальні колонки.\n",
    "\n",
    "1. Закодуйте колонки з бінарними значеннями `Fuel_Type` і `Transmission` так, аби вони були у чисельному представленні і містили лише 0 так 1. Приклад був у лекції. Значення 1 нехай буде у категорії, яка містить більше значень в колонці.\n",
    "\n",
    "2. Закодуйте колонку `Brand` з використанням `sklearn.preprocessing.OneHotEncoder` аналогічно до того, як ми робили це в лекції. Увага! Ми робимо виклик методу `Encoder.fit()` на тренувальних даних `X_train`, а на тестувальних тільки викликаємо `Encoder.transform()`. Додайте закодовані значення в набори даних `X_train`, `X_test`.\n",
    "\n",
    "3. Колонку `Owner_Type` з використанням `sklearn.preprocessing.OrdinalEncoder` я закодую для вас. Проаналізуйте, що відбувається.\n",
    "\n",
    "Колонка `Model` містять забагато значень для кодування в тому вигляді, як вона є зараз, з огляду на невелику кількість даних. Якщо ви бачите, як можна згрупувати значення в цій колонці скоротивши кількість унікальних значень до 3-5, то можете виконати ще цю трансформацію, використати цю колонку в моделі і отримати додаткову практику і бал, якщо все буде зроблено правильно. А якщо неправильно - то фідбек на Вашу роботу :)"
   ]
  },
  {
   "cell_type": "code",
   "execution_count": 37,
   "metadata": {
    "id": "oKrg78cYfzBh"
   },
   "outputs": [
    {
     "data": {
      "text/plain": [
       "array(['Petrol', 'Diesel'], dtype=object)"
      ]
     },
     "execution_count": 37,
     "metadata": {},
     "output_type": "execute_result"
    }
   ],
   "source": [
    "cars_df.Fuel_Type.unique()"
   ]
  },
  {
   "cell_type": "code",
   "execution_count": 38,
   "metadata": {},
   "outputs": [
    {
     "data": {
      "text/plain": [
       "Fuel_Type\n",
       "Petrol    52\n",
       "Diesel    48\n",
       "Name: count, dtype: int64"
      ]
     },
     "execution_count": 38,
     "metadata": {},
     "output_type": "execute_result"
    }
   ],
   "source": [
    "cars_df['Fuel_Type'].value_counts()"
   ]
  },
  {
   "cell_type": "code",
   "execution_count": 39,
   "metadata": {},
   "outputs": [],
   "source": [
    "fuel_type_codes = {'Diesel': 0, 'Petrol': 1}\n",
    "cars_df['fuel_type_codes'] = cars_df.Fuel_Type.map(fuel_type_codes)"
   ]
  },
  {
   "cell_type": "code",
   "execution_count": 40,
   "metadata": {},
   "outputs": [
    {
     "data": {
      "text/plain": [
       "Transmission\n",
       "Automatic    57\n",
       "Manual       43\n",
       "Name: count, dtype: int64"
      ]
     },
     "execution_count": 40,
     "metadata": {},
     "output_type": "execute_result"
    }
   ],
   "source": [
    "cars_df['Transmission'].value_counts()"
   ]
  },
  {
   "cell_type": "code",
   "execution_count": 41,
   "metadata": {},
   "outputs": [],
   "source": [
    "Transmission_codes = {'Manual': 0, 'Automatic': 1}\n",
    "cars_df['Transmission_codes'] = cars_df.Transmission.map(Transmission_codes)"
   ]
  },
  {
   "cell_type": "code",
   "execution_count": 42,
   "metadata": {},
   "outputs": [
    {
     "data": {
      "text/html": [
       "<div>\n",
       "<style scoped>\n",
       "    .dataframe tbody tr th:only-of-type {\n",
       "        vertical-align: middle;\n",
       "    }\n",
       "\n",
       "    .dataframe tbody tr th {\n",
       "        vertical-align: top;\n",
       "    }\n",
       "\n",
       "    .dataframe thead th {\n",
       "        text-align: right;\n",
       "    }\n",
       "</style>\n",
       "<table border=\"1\" class=\"dataframe\">\n",
       "  <thead>\n",
       "    <tr style=\"text-align: right;\">\n",
       "      <th></th>\n",
       "      <th>Car_ID</th>\n",
       "      <th>Brand</th>\n",
       "      <th>Model</th>\n",
       "      <th>Year</th>\n",
       "      <th>Kilometers_Driven</th>\n",
       "      <th>Fuel_Type</th>\n",
       "      <th>Transmission</th>\n",
       "      <th>Owner_Type</th>\n",
       "      <th>Mileage</th>\n",
       "      <th>Engine</th>\n",
       "      <th>Power</th>\n",
       "      <th>Seats</th>\n",
       "      <th>Price</th>\n",
       "      <th>Engine_Category</th>\n",
       "      <th>Mileage_Category</th>\n",
       "      <th>Power_Category</th>\n",
       "      <th>Kilometers_Category</th>\n",
       "      <th>fuel_type_codes</th>\n",
       "      <th>Transmission_codes</th>\n",
       "    </tr>\n",
       "  </thead>\n",
       "  <tbody>\n",
       "    <tr>\n",
       "      <th>0</th>\n",
       "      <td>1</td>\n",
       "      <td>Toyota</td>\n",
       "      <td>Corolla</td>\n",
       "      <td>2018</td>\n",
       "      <td>50000</td>\n",
       "      <td>Petrol</td>\n",
       "      <td>Manual</td>\n",
       "      <td>First</td>\n",
       "      <td>15</td>\n",
       "      <td>1498</td>\n",
       "      <td>108</td>\n",
       "      <td>5</td>\n",
       "      <td>800000</td>\n",
       "      <td>Small Engine</td>\n",
       "      <td>Average Mileage</td>\n",
       "      <td>Moderate Power</td>\n",
       "      <td>41-60 km</td>\n",
       "      <td>1</td>\n",
       "      <td>0</td>\n",
       "    </tr>\n",
       "    <tr>\n",
       "      <th>1</th>\n",
       "      <td>2</td>\n",
       "      <td>Honda</td>\n",
       "      <td>Civic</td>\n",
       "      <td>2019</td>\n",
       "      <td>40000</td>\n",
       "      <td>Petrol</td>\n",
       "      <td>Automatic</td>\n",
       "      <td>Second</td>\n",
       "      <td>17</td>\n",
       "      <td>1597</td>\n",
       "      <td>140</td>\n",
       "      <td>5</td>\n",
       "      <td>1000000</td>\n",
       "      <td>Medium Engine</td>\n",
       "      <td>Average Mileage</td>\n",
       "      <td>Moderate Power</td>\n",
       "      <td>21-40 km</td>\n",
       "      <td>1</td>\n",
       "      <td>1</td>\n",
       "    </tr>\n",
       "    <tr>\n",
       "      <th>2</th>\n",
       "      <td>3</td>\n",
       "      <td>Ford</td>\n",
       "      <td>Mustang</td>\n",
       "      <td>2017</td>\n",
       "      <td>20000</td>\n",
       "      <td>Petrol</td>\n",
       "      <td>Automatic</td>\n",
       "      <td>First</td>\n",
       "      <td>10</td>\n",
       "      <td>4951</td>\n",
       "      <td>395</td>\n",
       "      <td>4</td>\n",
       "      <td>2500000</td>\n",
       "      <td>Large Engine</td>\n",
       "      <td>Low Mileage</td>\n",
       "      <td>High Power</td>\n",
       "      <td>0-20 km</td>\n",
       "      <td>1</td>\n",
       "      <td>1</td>\n",
       "    </tr>\n",
       "    <tr>\n",
       "      <th>3</th>\n",
       "      <td>4</td>\n",
       "      <td>Maruti</td>\n",
       "      <td>Swift</td>\n",
       "      <td>2020</td>\n",
       "      <td>30000</td>\n",
       "      <td>Diesel</td>\n",
       "      <td>Manual</td>\n",
       "      <td>Third</td>\n",
       "      <td>23</td>\n",
       "      <td>1248</td>\n",
       "      <td>74</td>\n",
       "      <td>5</td>\n",
       "      <td>600000</td>\n",
       "      <td>Small Engine</td>\n",
       "      <td>High Mileage</td>\n",
       "      <td>Low Power</td>\n",
       "      <td>21-40 km</td>\n",
       "      <td>0</td>\n",
       "      <td>0</td>\n",
       "    </tr>\n",
       "    <tr>\n",
       "      <th>4</th>\n",
       "      <td>5</td>\n",
       "      <td>Hyundai</td>\n",
       "      <td>Sonata</td>\n",
       "      <td>2016</td>\n",
       "      <td>60000</td>\n",
       "      <td>Diesel</td>\n",
       "      <td>Automatic</td>\n",
       "      <td>Second</td>\n",
       "      <td>18</td>\n",
       "      <td>1999</td>\n",
       "      <td>194</td>\n",
       "      <td>5</td>\n",
       "      <td>850000</td>\n",
       "      <td>Medium Engine</td>\n",
       "      <td>Average Mileage</td>\n",
       "      <td>Moderate Power</td>\n",
       "      <td>41-60 km</td>\n",
       "      <td>0</td>\n",
       "      <td>1</td>\n",
       "    </tr>\n",
       "  </tbody>\n",
       "</table>\n",
       "</div>"
      ],
      "text/plain": [
       "   Car_ID    Brand    Model  Year  Kilometers_Driven Fuel_Type Transmission  \\\n",
       "0       1   Toyota  Corolla  2018              50000    Petrol       Manual   \n",
       "1       2    Honda    Civic  2019              40000    Petrol    Automatic   \n",
       "2       3     Ford  Mustang  2017              20000    Petrol    Automatic   \n",
       "3       4   Maruti    Swift  2020              30000    Diesel       Manual   \n",
       "4       5  Hyundai   Sonata  2016              60000    Diesel    Automatic   \n",
       "\n",
       "  Owner_Type  Mileage  Engine  Power  Seats    Price Engine_Category  \\\n",
       "0      First       15    1498    108      5   800000    Small Engine   \n",
       "1     Second       17    1597    140      5  1000000   Medium Engine   \n",
       "2      First       10    4951    395      4  2500000    Large Engine   \n",
       "3      Third       23    1248     74      5   600000    Small Engine   \n",
       "4     Second       18    1999    194      5   850000   Medium Engine   \n",
       "\n",
       "  Mileage_Category  Power_Category Kilometers_Category  fuel_type_codes  \\\n",
       "0  Average Mileage  Moderate Power            41-60 km                1   \n",
       "1  Average Mileage  Moderate Power            21-40 km                1   \n",
       "2      Low Mileage      High Power             0-20 km                1   \n",
       "3     High Mileage       Low Power            21-40 km                0   \n",
       "4  Average Mileage  Moderate Power            41-60 km                0   \n",
       "\n",
       "   Transmission_codes  \n",
       "0                   0  \n",
       "1                   1  \n",
       "2                   1  \n",
       "3                   0  \n",
       "4                   1  "
      ]
     },
     "execution_count": 42,
     "metadata": {},
     "output_type": "execute_result"
    }
   ],
   "source": [
    "cars_df.head()"
   ]
  },
  {
   "cell_type": "code",
   "execution_count": 70,
   "metadata": {},
   "outputs": [
    {
     "name": "stdout",
     "output_type": "stream",
     "text": [
      "    Year  Kilometers_Driven  Mileage  Engine  Power  Seats\n",
      "83  2019              22000       18    1498    148      5\n",
      "55  2018              28000       17    1968    187      5\n",
      "26  2018              28000       15    1984    241      5\n",
      "54  2017              32000       18    1598    103      5\n",
      "19  2017              26000       12    1991    241      5\n",
      "    Year  Kilometers_Driven  Mileage  Engine  Power  Seats\n",
      "17  2016              38000       15    1395    148      5\n",
      "41  2019              26000       20    1086     68      5\n",
      "92  2017              32000       18    1598    103      5\n",
      "14  2020              18000       19    1462    103      7\n",
      "68  2019              26000       20    1194     94      5\n"
     ]
    }
   ],
   "source": [
    "print(X_train.head())\n",
    "print(X_test.head())"
   ]
  },
  {
   "cell_type": "code",
   "execution_count": 82,
   "metadata": {},
   "outputs": [],
   "source": [
    "# ПРОБА\n",
    "#Додаємо колонки без змін до X_train і X_test\n",
    "X_train['Owner_Type'] = cars_df.loc[X_train.index, 'Owner_Type']\n",
    "X_test['Owner_Type'] = cars_df.loc[X_test.index, 'Owner_Type']\n",
    "\n",
    "#X_train['Transmission'] = cars_df.loc[X_train.index, 'Transmission']\n",
    "#X_test['Transmission'] = cars_df.loc[X_test.index, 'Transmission']\n",
    "\n",
    "#X_train['Fuel_Type'] = cars_df.loc[X_train.index, 'Fuel_Type']\n",
    "#X_test['Fuel_Type'] = cars_df.loc[X_test.index, 'Fuel_Type']"
   ]
  },
  {
   "cell_type": "code",
   "execution_count": 79,
   "metadata": {},
   "outputs": [],
   "source": [
    "#X_train = X_train.drop(columns=['Transmission', 'Fuel_Type', 'Owner_Type'])\n",
    "#X_test = X_test.drop(columns=['Transmission', 'Fuel_Type', 'Owner_Type'])"
   ]
  },
  {
   "cell_type": "code",
   "execution_count": 76,
   "metadata": {},
   "outputs": [],
   "source": [
    "X_train = X_train.join(cars_df[['fuel_type_codes', 'Transmission_codes']], how='left')\n",
    "X_test = X_test.join(cars_df[['fuel_type_codes', 'Transmission_codes']], how='left')"
   ]
  },
  {
   "cell_type": "code",
   "execution_count": 80,
   "metadata": {},
   "outputs": [
    {
     "name": "stdout",
     "output_type": "stream",
     "text": [
      "    Year  Kilometers_Driven  Mileage  Engine  Power  Seats  fuel_type_codes  \\\n",
      "83  2019              22000       18    1498    148      5                1   \n",
      "55  2018              28000       17    1968    187      5                0   \n",
      "26  2018              28000       15    1984    241      5                1   \n",
      "54  2017              32000       18    1598    103      5                1   \n",
      "19  2017              26000       12    1991    241      5                1   \n",
      "\n",
      "    Transmission_codes  \n",
      "83                   1  \n",
      "55                   1  \n",
      "26                   1  \n",
      "54                   0  \n",
      "19                   1  \n",
      "    Year  Kilometers_Driven  Mileage  Engine  Power  Seats  fuel_type_codes  \\\n",
      "17  2016              38000       15    1395    148      5                1   \n",
      "41  2019              26000       20    1086     68      5                1   \n",
      "92  2017              32000       18    1598    103      5                1   \n",
      "14  2020              18000       19    1462    103      7                1   \n",
      "68  2019              26000       20    1194     94      5                1   \n",
      "\n",
      "    Transmission_codes  \n",
      "17                   1  \n",
      "41                   0  \n",
      "92                   0  \n",
      "14                   0  \n",
      "68                   0  \n"
     ]
    }
   ],
   "source": [
    "print(X_train.head())\n",
    "print(X_test.head())"
   ]
  },
  {
   "cell_type": "code",
   "execution_count": 83,
   "metadata": {},
   "outputs": [],
   "source": [
    "from sklearn.preprocessing import OrdinalEncoder\n",
    "\n",
    "ordenc = OrdinalEncoder(categories=[['First', 'Second', 'Third']]) # визначаємо порядок категорій\n",
    "ordenc.fit(X_train[['Owner_Type']])\n",
    "\n",
    "X_train['Owner_Type_Codes'] = ordenc.transform(X_train[['Owner_Type']])\n",
    "X_test['Owner_Type_Codes'] = ordenc.transform(X_test[['Owner_Type']])"
   ]
  },
  {
   "cell_type": "code",
   "execution_count": 84,
   "metadata": {},
   "outputs": [
    {
     "name": "stdout",
     "output_type": "stream",
     "text": [
      "    Year  Kilometers_Driven  Mileage  Engine  Power  Seats  fuel_type_codes  \\\n",
      "83  2019              22000       18    1498    148      5                1   \n",
      "55  2018              28000       17    1968    187      5                0   \n",
      "26  2018              28000       15    1984    241      5                1   \n",
      "54  2017              32000       18    1598    103      5                1   \n",
      "19  2017              26000       12    1991    241      5                1   \n",
      "\n",
      "    Transmission_codes Owner_Type  Owner_Type_Codes  \n",
      "83                   1     Second               1.0  \n",
      "55                   1      First               0.0  \n",
      "26                   1      First               0.0  \n",
      "54                   0     Second               1.0  \n",
      "19                   1     Second               1.0  \n",
      "    Year  Kilometers_Driven  Mileage  Engine  Power  Seats  fuel_type_codes  \\\n",
      "17  2016              38000       15    1395    148      5                1   \n",
      "41  2019              26000       20    1086     68      5                1   \n",
      "92  2017              32000       18    1598    103      5                1   \n",
      "14  2020              18000       19    1462    103      7                1   \n",
      "68  2019              26000       20    1194     94      5                1   \n",
      "\n",
      "    Transmission_codes Owner_Type  Owner_Type_Codes  \n",
      "17                   1     Second               1.0  \n",
      "41                   0      Third               2.0  \n",
      "92                   0     Second               1.0  \n",
      "14                   0      First               0.0  \n",
      "68                   0      Third               2.0  \n"
     ]
    }
   ],
   "source": [
    "print(X_train.head())\n",
    "print(X_test.head())"
   ]
  },
  {
   "cell_type": "code",
   "execution_count": 85,
   "metadata": {},
   "outputs": [],
   "source": [
    "X_train = X_train.drop(columns=['Owner_Type'])\n",
    "X_test = X_test.drop(columns=['Owner_Type'])"
   ]
  },
  {
   "cell_type": "markdown",
   "metadata": {
    "id": "P-woc2oUSZu4"
   },
   "source": [
    "Очікуваний результат після трансформацій:"
   ]
  },
  {
   "cell_type": "code",
   "execution_count": null,
   "metadata": {
    "colab": {
     "base_uri": "https://localhost:8080/",
     "height": 432
    },
    "id": "brxPGShISEhz",
    "outputId": "ae807da8-6694-4951-8c8c-69d1e96733d0"
   },
   "outputs": [],
   "source": [
    "pd.set_option('display.max_columns', 100)\n",
    "display(X_train.head()), display(X_test.head())"
   ]
  },
  {
   "cell_type": "code",
   "execution_count": 48,
   "metadata": {},
   "outputs": [
    {
     "data": {
      "text/plain": [
       "[array(['Audi', 'BMW', 'Ford', 'Honda', 'Hyundai', 'Mahindra', 'Maruti',\n",
       "        'Mercedes', 'Tata', 'Toyota', 'Volkswagen'], dtype=object)]"
      ]
     },
     "execution_count": 48,
     "metadata": {},
     "output_type": "execute_result"
    }
   ],
   "source": [
    "from sklearn import preprocessing\n",
    "enc = preprocessing.OneHotEncoder()\n",
    "enc.fit(cars_df[['Brand']])\n",
    "enc.categories_"
   ]
  },
  {
   "cell_type": "code",
   "execution_count": 49,
   "metadata": {},
   "outputs": [
    {
     "data": {
      "text/plain": [
       "array([[0., 0., 0., ..., 0., 1., 0.],\n",
       "       [0., 0., 0., ..., 0., 0., 0.],\n",
       "       [0., 0., 1., ..., 0., 0., 0.],\n",
       "       ...,\n",
       "       [0., 0., 1., ..., 0., 0., 0.],\n",
       "       [0., 0., 0., ..., 0., 0., 0.],\n",
       "       [0., 0., 0., ..., 1., 0., 0.]])"
      ]
     },
     "execution_count": 49,
     "metadata": {},
     "output_type": "execute_result"
    }
   ],
   "source": [
    "one_hot = enc.transform(cars_df[['Brand']]).toarray()\n",
    "one_hot"
   ]
  },
  {
   "cell_type": "code",
   "execution_count": 50,
   "metadata": {},
   "outputs": [
    {
     "data": {
      "text/plain": [
       "array(['Audi', 'BMW', 'Ford', 'Honda', 'Hyundai', 'Mahindra', 'Maruti',\n",
       "       'Mercedes', 'Tata', 'Toyota', 'Volkswagen'], dtype=object)"
      ]
     },
     "execution_count": 50,
     "metadata": {},
     "output_type": "execute_result"
    }
   ],
   "source": [
    "enc.categories_[0]"
   ]
  },
  {
   "cell_type": "code",
   "execution_count": 51,
   "metadata": {},
   "outputs": [],
   "source": [
    "cars_df[enc.categories_[0]] = one_hot"
   ]
  },
  {
   "cell_type": "code",
   "execution_count": 96,
   "metadata": {},
   "outputs": [
    {
     "data": {
      "text/html": [
       "<div>\n",
       "<style scoped>\n",
       "    .dataframe tbody tr th:only-of-type {\n",
       "        vertical-align: middle;\n",
       "    }\n",
       "\n",
       "    .dataframe tbody tr th {\n",
       "        vertical-align: top;\n",
       "    }\n",
       "\n",
       "    .dataframe thead th {\n",
       "        text-align: right;\n",
       "    }\n",
       "</style>\n",
       "<table border=\"1\" class=\"dataframe\">\n",
       "  <thead>\n",
       "    <tr style=\"text-align: right;\">\n",
       "      <th></th>\n",
       "      <th>Car_ID</th>\n",
       "      <th>Brand</th>\n",
       "      <th>Model</th>\n",
       "      <th>Year</th>\n",
       "      <th>Kilometers_Driven</th>\n",
       "      <th>Fuel_Type</th>\n",
       "      <th>Transmission</th>\n",
       "      <th>Owner_Type</th>\n",
       "      <th>Mileage</th>\n",
       "      <th>Engine</th>\n",
       "      <th>...</th>\n",
       "      <th>BMW</th>\n",
       "      <th>Ford</th>\n",
       "      <th>Honda</th>\n",
       "      <th>Hyundai</th>\n",
       "      <th>Mahindra</th>\n",
       "      <th>Maruti</th>\n",
       "      <th>Mercedes</th>\n",
       "      <th>Tata</th>\n",
       "      <th>Toyota</th>\n",
       "      <th>Volkswagen</th>\n",
       "    </tr>\n",
       "  </thead>\n",
       "  <tbody>\n",
       "    <tr>\n",
       "      <th>0</th>\n",
       "      <td>1</td>\n",
       "      <td>Toyota</td>\n",
       "      <td>Corolla</td>\n",
       "      <td>2018</td>\n",
       "      <td>50000</td>\n",
       "      <td>Petrol</td>\n",
       "      <td>Manual</td>\n",
       "      <td>First</td>\n",
       "      <td>15</td>\n",
       "      <td>1498</td>\n",
       "      <td>...</td>\n",
       "      <td>0.0</td>\n",
       "      <td>0.0</td>\n",
       "      <td>0.0</td>\n",
       "      <td>0.0</td>\n",
       "      <td>0.0</td>\n",
       "      <td>0.0</td>\n",
       "      <td>0.0</td>\n",
       "      <td>0.0</td>\n",
       "      <td>1.0</td>\n",
       "      <td>0.0</td>\n",
       "    </tr>\n",
       "    <tr>\n",
       "      <th>1</th>\n",
       "      <td>2</td>\n",
       "      <td>Honda</td>\n",
       "      <td>Civic</td>\n",
       "      <td>2019</td>\n",
       "      <td>40000</td>\n",
       "      <td>Petrol</td>\n",
       "      <td>Automatic</td>\n",
       "      <td>Second</td>\n",
       "      <td>17</td>\n",
       "      <td>1597</td>\n",
       "      <td>...</td>\n",
       "      <td>0.0</td>\n",
       "      <td>0.0</td>\n",
       "      <td>1.0</td>\n",
       "      <td>0.0</td>\n",
       "      <td>0.0</td>\n",
       "      <td>0.0</td>\n",
       "      <td>0.0</td>\n",
       "      <td>0.0</td>\n",
       "      <td>0.0</td>\n",
       "      <td>0.0</td>\n",
       "    </tr>\n",
       "    <tr>\n",
       "      <th>2</th>\n",
       "      <td>3</td>\n",
       "      <td>Ford</td>\n",
       "      <td>Mustang</td>\n",
       "      <td>2017</td>\n",
       "      <td>20000</td>\n",
       "      <td>Petrol</td>\n",
       "      <td>Automatic</td>\n",
       "      <td>First</td>\n",
       "      <td>10</td>\n",
       "      <td>4951</td>\n",
       "      <td>...</td>\n",
       "      <td>0.0</td>\n",
       "      <td>1.0</td>\n",
       "      <td>0.0</td>\n",
       "      <td>0.0</td>\n",
       "      <td>0.0</td>\n",
       "      <td>0.0</td>\n",
       "      <td>0.0</td>\n",
       "      <td>0.0</td>\n",
       "      <td>0.0</td>\n",
       "      <td>0.0</td>\n",
       "    </tr>\n",
       "    <tr>\n",
       "      <th>3</th>\n",
       "      <td>4</td>\n",
       "      <td>Maruti</td>\n",
       "      <td>Swift</td>\n",
       "      <td>2020</td>\n",
       "      <td>30000</td>\n",
       "      <td>Diesel</td>\n",
       "      <td>Manual</td>\n",
       "      <td>Third</td>\n",
       "      <td>23</td>\n",
       "      <td>1248</td>\n",
       "      <td>...</td>\n",
       "      <td>0.0</td>\n",
       "      <td>0.0</td>\n",
       "      <td>0.0</td>\n",
       "      <td>0.0</td>\n",
       "      <td>0.0</td>\n",
       "      <td>1.0</td>\n",
       "      <td>0.0</td>\n",
       "      <td>0.0</td>\n",
       "      <td>0.0</td>\n",
       "      <td>0.0</td>\n",
       "    </tr>\n",
       "    <tr>\n",
       "      <th>4</th>\n",
       "      <td>5</td>\n",
       "      <td>Hyundai</td>\n",
       "      <td>Sonata</td>\n",
       "      <td>2016</td>\n",
       "      <td>60000</td>\n",
       "      <td>Diesel</td>\n",
       "      <td>Automatic</td>\n",
       "      <td>Second</td>\n",
       "      <td>18</td>\n",
       "      <td>1999</td>\n",
       "      <td>...</td>\n",
       "      <td>0.0</td>\n",
       "      <td>0.0</td>\n",
       "      <td>0.0</td>\n",
       "      <td>1.0</td>\n",
       "      <td>0.0</td>\n",
       "      <td>0.0</td>\n",
       "      <td>0.0</td>\n",
       "      <td>0.0</td>\n",
       "      <td>0.0</td>\n",
       "      <td>0.0</td>\n",
       "    </tr>\n",
       "  </tbody>\n",
       "</table>\n",
       "<p>5 rows × 30 columns</p>\n",
       "</div>"
      ],
      "text/plain": [
       "   Car_ID    Brand    Model  Year  Kilometers_Driven Fuel_Type Transmission  \\\n",
       "0       1   Toyota  Corolla  2018              50000    Petrol       Manual   \n",
       "1       2    Honda    Civic  2019              40000    Petrol    Automatic   \n",
       "2       3     Ford  Mustang  2017              20000    Petrol    Automatic   \n",
       "3       4   Maruti    Swift  2020              30000    Diesel       Manual   \n",
       "4       5  Hyundai   Sonata  2016              60000    Diesel    Automatic   \n",
       "\n",
       "  Owner_Type  Mileage  Engine  ...  BMW  Ford  Honda Hyundai Mahindra Maruti  \\\n",
       "0      First       15    1498  ...  0.0   0.0    0.0     0.0      0.0    0.0   \n",
       "1     Second       17    1597  ...  0.0   0.0    1.0     0.0      0.0    0.0   \n",
       "2      First       10    4951  ...  0.0   1.0    0.0     0.0      0.0    0.0   \n",
       "3      Third       23    1248  ...  0.0   0.0    0.0     0.0      0.0    1.0   \n",
       "4     Second       18    1999  ...  0.0   0.0    0.0     1.0      0.0    0.0   \n",
       "\n",
       "  Mercedes  Tata  Toyota  Volkswagen  \n",
       "0      0.0   0.0     1.0         0.0  \n",
       "1      0.0   0.0     0.0         0.0  \n",
       "2      0.0   0.0     0.0         0.0  \n",
       "3      0.0   0.0     0.0         0.0  \n",
       "4      0.0   0.0     0.0         0.0  \n",
       "\n",
       "[5 rows x 30 columns]"
      ]
     },
     "execution_count": 96,
     "metadata": {},
     "output_type": "execute_result"
    }
   ],
   "source": [
    "cars_df.head()"
   ]
  },
  {
   "cell_type": "code",
   "execution_count": 97,
   "metadata": {},
   "outputs": [
    {
     "data": {
      "text/plain": [
       "['Audi',\n",
       " 'BMW',\n",
       " 'Ford',\n",
       " 'Honda',\n",
       " 'Hyundai',\n",
       " 'Mahindra',\n",
       " 'Maruti',\n",
       " 'Mercedes',\n",
       " 'Tata',\n",
       " 'Toyota',\n",
       " 'Volkswagen']"
      ]
     },
     "execution_count": 97,
     "metadata": {},
     "output_type": "execute_result"
    }
   ],
   "source": [
    "categories_list = enc.categories_[0].tolist()\n",
    "categories_list"
   ]
  },
  {
   "cell_type": "code",
   "execution_count": null,
   "metadata": {},
   "outputs": [],
   "source": []
  },
  {
   "cell_type": "code",
   "execution_count": 90,
   "metadata": {},
   "outputs": [],
   "source": [
    "categories_string = ', '.join(categories_list)\n",
    "X_train['Categories_Info'] = categories_string\n",
    "X_test['Categories_Info'] = categories_string"
   ]
  },
  {
   "cell_type": "code",
   "execution_count": 91,
   "metadata": {},
   "outputs": [
    {
     "name": "stdout",
     "output_type": "stream",
     "text": [
      "    Year  Kilometers_Driven  Mileage  Engine  Power  Seats  fuel_type_codes  \\\n",
      "83  2019              22000       18    1498    148      5                1   \n",
      "55  2018              28000       17    1968    187      5                0   \n",
      "26  2018              28000       15    1984    241      5                1   \n",
      "54  2017              32000       18    1598    103      5                1   \n",
      "19  2017              26000       12    1991    241      5                1   \n",
      "\n",
      "    Transmission_codes  Owner_Type_Codes  \\\n",
      "83                   1               1.0   \n",
      "55                   1               0.0   \n",
      "26                   1               0.0   \n",
      "54                   0               1.0   \n",
      "19                   1               1.0   \n",
      "\n",
      "                                      Categories_Info  \n",
      "83  Audi, BMW, Ford, Honda, Hyundai, Mahindra, Mar...  \n",
      "55  Audi, BMW, Ford, Honda, Hyundai, Mahindra, Mar...  \n",
      "26  Audi, BMW, Ford, Honda, Hyundai, Mahindra, Mar...  \n",
      "54  Audi, BMW, Ford, Honda, Hyundai, Mahindra, Mar...  \n",
      "19  Audi, BMW, Ford, Honda, Hyundai, Mahindra, Mar...  \n",
      "    Year  Kilometers_Driven  Mileage  Engine  Power  Seats  fuel_type_codes  \\\n",
      "17  2016              38000       15    1395    148      5                1   \n",
      "41  2019              26000       20    1086     68      5                1   \n",
      "92  2017              32000       18    1598    103      5                1   \n",
      "14  2020              18000       19    1462    103      7                1   \n",
      "68  2019              26000       20    1194     94      5                1   \n",
      "\n",
      "    Transmission_codes  Owner_Type_Codes  \\\n",
      "17                   1               1.0   \n",
      "41                   0               2.0   \n",
      "92                   0               1.0   \n",
      "14                   0               0.0   \n",
      "68                   0               2.0   \n",
      "\n",
      "                                      Categories_Info  \n",
      "17  Audi, BMW, Ford, Honda, Hyundai, Mahindra, Mar...  \n",
      "41  Audi, BMW, Ford, Honda, Hyundai, Mahindra, Mar...  \n",
      "92  Audi, BMW, Ford, Honda, Hyundai, Mahindra, Mar...  \n",
      "14  Audi, BMW, Ford, Honda, Hyundai, Mahindra, Mar...  \n",
      "68  Audi, BMW, Ford, Honda, Hyundai, Mahindra, Mar...  \n"
     ]
    }
   ],
   "source": [
    "print(X_train.head())\n",
    "print(X_test.head())"
   ]
  },
  {
   "cell_type": "code",
   "execution_count": 92,
   "metadata": {},
   "outputs": [],
   "source": [
    "def train_model_show_rmse(inputs, targets):\n",
    "  model = LinearRegression().fit(inputs, targets)\n",
    "  predictions = model.predict(inputs)\n",
    "  loss = mean_squared_error(targets, predictions)\n",
    "  print('Loss:', loss)\n",
    "  return model"
   ]
  },
  {
   "cell_type": "code",
   "execution_count": null,
   "metadata": {},
   "outputs": [],
   "source": [
    "print(X_train.head())\n",
    "print(X_test.head())"
   ]
  },
  {
   "cell_type": "code",
   "execution_count": 95,
   "metadata": {},
   "outputs": [
    {
     "ename": "ValueError",
     "evalue": "could not convert string to float: 'Audi, BMW, Ford, Honda, Hyundai, Mahindra, Maruti, Mercedes, Tata, Toyota, Volkswagen'",
     "output_type": "error",
     "traceback": [
      "\u001b[1;31m---------------------------------------------------------------------------\u001b[0m",
      "\u001b[1;31mValueError\u001b[0m                                Traceback (most recent call last)",
      "\u001b[1;32m~\\AppData\\Local\\Temp\\ipykernel_14496\\2720062102.py\u001b[0m in \u001b[0;36m?\u001b[1;34m()\u001b[0m\n\u001b[0;32m      1\u001b[0m \u001b[1;31m# Навчання моделі на тренувальних даних\u001b[0m\u001b[1;33m\u001b[0m\u001b[1;33m\u001b[0m\u001b[0m\n\u001b[1;32m----> 2\u001b[1;33m \u001b[0mmodel\u001b[0m \u001b[1;33m=\u001b[0m \u001b[0mLinearRegression\u001b[0m\u001b[1;33m(\u001b[0m\u001b[1;33m)\u001b[0m\u001b[1;33m.\u001b[0m\u001b[0mfit\u001b[0m\u001b[1;33m(\u001b[0m\u001b[0mX_train\u001b[0m\u001b[1;33m,\u001b[0m \u001b[0my_train\u001b[0m\u001b[1;33m)\u001b[0m\u001b[1;33m\u001b[0m\u001b[1;33m\u001b[0m\u001b[0m\n\u001b[0m\u001b[0;32m      3\u001b[0m \u001b[1;33m\u001b[0m\u001b[0m\n\u001b[0;32m      4\u001b[0m \u001b[1;31m# Прогнозування на тестових даних\u001b[0m\u001b[1;33m\u001b[0m\u001b[1;33m\u001b[0m\u001b[0m\n\u001b[0;32m      5\u001b[0m \u001b[0mpredictions_test\u001b[0m \u001b[1;33m=\u001b[0m \u001b[0mmodel\u001b[0m\u001b[1;33m.\u001b[0m\u001b[0mpredict\u001b[0m\u001b[1;33m(\u001b[0m\u001b[0mX_test\u001b[0m\u001b[1;33m)\u001b[0m\u001b[1;33m\u001b[0m\u001b[1;33m\u001b[0m\u001b[0m\n",
      "\u001b[1;32m~\\AppData\\Local\\Programs\\Python\\Python312\\Lib\\site-packages\\sklearn\\base.py\u001b[0m in \u001b[0;36m?\u001b[1;34m(estimator, *args, **kwargs)\u001b[0m\n\u001b[0;32m   1385\u001b[0m                 skip_parameter_validation=(\n\u001b[0;32m   1386\u001b[0m                     \u001b[0mprefer_skip_nested_validation\u001b[0m \u001b[1;32mor\u001b[0m \u001b[0mglobal_skip_validation\u001b[0m\u001b[1;33m\u001b[0m\u001b[1;33m\u001b[0m\u001b[0m\n\u001b[0;32m   1387\u001b[0m                 \u001b[1;33m)\u001b[0m\u001b[1;33m\u001b[0m\u001b[1;33m\u001b[0m\u001b[0m\n\u001b[0;32m   1388\u001b[0m             \u001b[1;33m)\u001b[0m\u001b[1;33m:\u001b[0m\u001b[1;33m\u001b[0m\u001b[1;33m\u001b[0m\u001b[0m\n\u001b[1;32m-> 1389\u001b[1;33m                 \u001b[1;32mreturn\u001b[0m \u001b[0mfit_method\u001b[0m\u001b[1;33m(\u001b[0m\u001b[0mestimator\u001b[0m\u001b[1;33m,\u001b[0m \u001b[1;33m*\u001b[0m\u001b[0margs\u001b[0m\u001b[1;33m,\u001b[0m \u001b[1;33m**\u001b[0m\u001b[0mkwargs\u001b[0m\u001b[1;33m)\u001b[0m\u001b[1;33m\u001b[0m\u001b[1;33m\u001b[0m\u001b[0m\n\u001b[0m",
      "\u001b[1;32m~\\AppData\\Local\\Programs\\Python\\Python312\\Lib\\site-packages\\sklearn\\linear_model\\_base.py\u001b[0m in \u001b[0;36m?\u001b[1;34m(self, X, y, sample_weight)\u001b[0m\n\u001b[0;32m    597\u001b[0m         \u001b[0mn_jobs_\u001b[0m \u001b[1;33m=\u001b[0m \u001b[0mself\u001b[0m\u001b[1;33m.\u001b[0m\u001b[0mn_jobs\u001b[0m\u001b[1;33m\u001b[0m\u001b[1;33m\u001b[0m\u001b[0m\n\u001b[0;32m    598\u001b[0m \u001b[1;33m\u001b[0m\u001b[0m\n\u001b[0;32m    599\u001b[0m         \u001b[0maccept_sparse\u001b[0m \u001b[1;33m=\u001b[0m \u001b[1;32mFalse\u001b[0m \u001b[1;32mif\u001b[0m \u001b[0mself\u001b[0m\u001b[1;33m.\u001b[0m\u001b[0mpositive\u001b[0m \u001b[1;32melse\u001b[0m \u001b[1;33m[\u001b[0m\u001b[1;34m\"csr\"\u001b[0m\u001b[1;33m,\u001b[0m \u001b[1;34m\"csc\"\u001b[0m\u001b[1;33m,\u001b[0m \u001b[1;34m\"coo\"\u001b[0m\u001b[1;33m]\u001b[0m\u001b[1;33m\u001b[0m\u001b[1;33m\u001b[0m\u001b[0m\n\u001b[0;32m    600\u001b[0m \u001b[1;33m\u001b[0m\u001b[0m\n\u001b[1;32m--> 601\u001b[1;33m         X, y = validate_data(\n\u001b[0m\u001b[0;32m    602\u001b[0m             \u001b[0mself\u001b[0m\u001b[1;33m,\u001b[0m\u001b[1;33m\u001b[0m\u001b[1;33m\u001b[0m\u001b[0m\n\u001b[0;32m    603\u001b[0m             \u001b[0mX\u001b[0m\u001b[1;33m,\u001b[0m\u001b[1;33m\u001b[0m\u001b[1;33m\u001b[0m\u001b[0m\n\u001b[0;32m    604\u001b[0m             \u001b[0my\u001b[0m\u001b[1;33m,\u001b[0m\u001b[1;33m\u001b[0m\u001b[1;33m\u001b[0m\u001b[0m\n",
      "\u001b[1;32m~\\AppData\\Local\\Programs\\Python\\Python312\\Lib\\site-packages\\sklearn\\utils\\validation.py\u001b[0m in \u001b[0;36m?\u001b[1;34m(_estimator, X, y, reset, validate_separately, skip_check_array, **check_params)\u001b[0m\n\u001b[0;32m   2957\u001b[0m             \u001b[1;32mif\u001b[0m \u001b[1;34m\"estimator\"\u001b[0m \u001b[1;32mnot\u001b[0m \u001b[1;32min\u001b[0m \u001b[0mcheck_y_params\u001b[0m\u001b[1;33m:\u001b[0m\u001b[1;33m\u001b[0m\u001b[1;33m\u001b[0m\u001b[0m\n\u001b[0;32m   2958\u001b[0m                 \u001b[0mcheck_y_params\u001b[0m \u001b[1;33m=\u001b[0m \u001b[1;33m{\u001b[0m\u001b[1;33m**\u001b[0m\u001b[0mdefault_check_params\u001b[0m\u001b[1;33m,\u001b[0m \u001b[1;33m**\u001b[0m\u001b[0mcheck_y_params\u001b[0m\u001b[1;33m}\u001b[0m\u001b[1;33m\u001b[0m\u001b[1;33m\u001b[0m\u001b[0m\n\u001b[0;32m   2959\u001b[0m             \u001b[0my\u001b[0m \u001b[1;33m=\u001b[0m \u001b[0mcheck_array\u001b[0m\u001b[1;33m(\u001b[0m\u001b[0my\u001b[0m\u001b[1;33m,\u001b[0m \u001b[0minput_name\u001b[0m\u001b[1;33m=\u001b[0m\u001b[1;34m\"y\"\u001b[0m\u001b[1;33m,\u001b[0m \u001b[1;33m**\u001b[0m\u001b[0mcheck_y_params\u001b[0m\u001b[1;33m)\u001b[0m\u001b[1;33m\u001b[0m\u001b[1;33m\u001b[0m\u001b[0m\n\u001b[0;32m   2960\u001b[0m         \u001b[1;32melse\u001b[0m\u001b[1;33m:\u001b[0m\u001b[1;33m\u001b[0m\u001b[1;33m\u001b[0m\u001b[0m\n\u001b[1;32m-> 2961\u001b[1;33m             \u001b[0mX\u001b[0m\u001b[1;33m,\u001b[0m \u001b[0my\u001b[0m \u001b[1;33m=\u001b[0m \u001b[0mcheck_X_y\u001b[0m\u001b[1;33m(\u001b[0m\u001b[0mX\u001b[0m\u001b[1;33m,\u001b[0m \u001b[0my\u001b[0m\u001b[1;33m,\u001b[0m \u001b[1;33m**\u001b[0m\u001b[0mcheck_params\u001b[0m\u001b[1;33m)\u001b[0m\u001b[1;33m\u001b[0m\u001b[1;33m\u001b[0m\u001b[0m\n\u001b[0m\u001b[0;32m   2962\u001b[0m         \u001b[0mout\u001b[0m \u001b[1;33m=\u001b[0m \u001b[0mX\u001b[0m\u001b[1;33m,\u001b[0m \u001b[0my\u001b[0m\u001b[1;33m\u001b[0m\u001b[1;33m\u001b[0m\u001b[0m\n\u001b[0;32m   2963\u001b[0m \u001b[1;33m\u001b[0m\u001b[0m\n\u001b[0;32m   2964\u001b[0m     \u001b[1;32mif\u001b[0m \u001b[1;32mnot\u001b[0m \u001b[0mno_val_X\u001b[0m \u001b[1;32mand\u001b[0m \u001b[0mcheck_params\u001b[0m\u001b[1;33m.\u001b[0m\u001b[0mget\u001b[0m\u001b[1;33m(\u001b[0m\u001b[1;34m\"ensure_2d\"\u001b[0m\u001b[1;33m,\u001b[0m \u001b[1;32mTrue\u001b[0m\u001b[1;33m)\u001b[0m\u001b[1;33m:\u001b[0m\u001b[1;33m\u001b[0m\u001b[1;33m\u001b[0m\u001b[0m\n",
      "\u001b[1;32m~\\AppData\\Local\\Programs\\Python\\Python312\\Lib\\site-packages\\sklearn\\utils\\validation.py\u001b[0m in \u001b[0;36m?\u001b[1;34m(X, y, accept_sparse, accept_large_sparse, dtype, order, copy, force_writeable, force_all_finite, ensure_all_finite, ensure_2d, allow_nd, multi_output, ensure_min_samples, ensure_min_features, y_numeric, estimator)\u001b[0m\n\u001b[0;32m   1366\u001b[0m         \u001b[1;33m)\u001b[0m\u001b[1;33m\u001b[0m\u001b[1;33m\u001b[0m\u001b[0m\n\u001b[0;32m   1367\u001b[0m \u001b[1;33m\u001b[0m\u001b[0m\n\u001b[0;32m   1368\u001b[0m     \u001b[0mensure_all_finite\u001b[0m \u001b[1;33m=\u001b[0m \u001b[0m_deprecate_force_all_finite\u001b[0m\u001b[1;33m(\u001b[0m\u001b[0mforce_all_finite\u001b[0m\u001b[1;33m,\u001b[0m \u001b[0mensure_all_finite\u001b[0m\u001b[1;33m)\u001b[0m\u001b[1;33m\u001b[0m\u001b[1;33m\u001b[0m\u001b[0m\n\u001b[0;32m   1369\u001b[0m \u001b[1;33m\u001b[0m\u001b[0m\n\u001b[1;32m-> 1370\u001b[1;33m     X = check_array(\n\u001b[0m\u001b[0;32m   1371\u001b[0m         \u001b[0mX\u001b[0m\u001b[1;33m,\u001b[0m\u001b[1;33m\u001b[0m\u001b[1;33m\u001b[0m\u001b[0m\n\u001b[0;32m   1372\u001b[0m         \u001b[0maccept_sparse\u001b[0m\u001b[1;33m=\u001b[0m\u001b[0maccept_sparse\u001b[0m\u001b[1;33m,\u001b[0m\u001b[1;33m\u001b[0m\u001b[1;33m\u001b[0m\u001b[0m\n\u001b[0;32m   1373\u001b[0m         \u001b[0maccept_large_sparse\u001b[0m\u001b[1;33m=\u001b[0m\u001b[0maccept_large_sparse\u001b[0m\u001b[1;33m,\u001b[0m\u001b[1;33m\u001b[0m\u001b[1;33m\u001b[0m\u001b[0m\n",
      "\u001b[1;32m~\\AppData\\Local\\Programs\\Python\\Python312\\Lib\\site-packages\\sklearn\\utils\\validation.py\u001b[0m in \u001b[0;36m?\u001b[1;34m(array, accept_sparse, accept_large_sparse, dtype, order, copy, force_writeable, force_all_finite, ensure_all_finite, ensure_non_negative, ensure_2d, allow_nd, ensure_min_samples, ensure_min_features, estimator, input_name)\u001b[0m\n\u001b[0;32m   1052\u001b[0m                         \u001b[1;33m)\u001b[0m\u001b[1;33m\u001b[0m\u001b[1;33m\u001b[0m\u001b[0m\n\u001b[0;32m   1053\u001b[0m                     \u001b[0marray\u001b[0m \u001b[1;33m=\u001b[0m \u001b[0mxp\u001b[0m\u001b[1;33m.\u001b[0m\u001b[0mastype\u001b[0m\u001b[1;33m(\u001b[0m\u001b[0marray\u001b[0m\u001b[1;33m,\u001b[0m \u001b[0mdtype\u001b[0m\u001b[1;33m,\u001b[0m \u001b[0mcopy\u001b[0m\u001b[1;33m=\u001b[0m\u001b[1;32mFalse\u001b[0m\u001b[1;33m)\u001b[0m\u001b[1;33m\u001b[0m\u001b[1;33m\u001b[0m\u001b[0m\n\u001b[0;32m   1054\u001b[0m                 \u001b[1;32melse\u001b[0m\u001b[1;33m:\u001b[0m\u001b[1;33m\u001b[0m\u001b[1;33m\u001b[0m\u001b[0m\n\u001b[0;32m   1055\u001b[0m                     \u001b[0marray\u001b[0m \u001b[1;33m=\u001b[0m \u001b[0m_asarray_with_order\u001b[0m\u001b[1;33m(\u001b[0m\u001b[0marray\u001b[0m\u001b[1;33m,\u001b[0m \u001b[0morder\u001b[0m\u001b[1;33m=\u001b[0m\u001b[0morder\u001b[0m\u001b[1;33m,\u001b[0m \u001b[0mdtype\u001b[0m\u001b[1;33m=\u001b[0m\u001b[0mdtype\u001b[0m\u001b[1;33m,\u001b[0m \u001b[0mxp\u001b[0m\u001b[1;33m=\u001b[0m\u001b[0mxp\u001b[0m\u001b[1;33m)\u001b[0m\u001b[1;33m\u001b[0m\u001b[1;33m\u001b[0m\u001b[0m\n\u001b[1;32m-> 1056\u001b[1;33m             \u001b[1;32mexcept\u001b[0m \u001b[0mComplexWarning\u001b[0m \u001b[1;32mas\u001b[0m \u001b[0mcomplex_warning\u001b[0m\u001b[1;33m:\u001b[0m\u001b[1;33m\u001b[0m\u001b[1;33m\u001b[0m\u001b[0m\n\u001b[0m\u001b[0;32m   1057\u001b[0m                 raise ValueError(\n\u001b[0;32m   1058\u001b[0m                     \u001b[1;34m\"Complex data not supported\\n{}\\n\"\u001b[0m\u001b[1;33m.\u001b[0m\u001b[0mformat\u001b[0m\u001b[1;33m(\u001b[0m\u001b[0marray\u001b[0m\u001b[1;33m)\u001b[0m\u001b[1;33m\u001b[0m\u001b[1;33m\u001b[0m\u001b[0m\n\u001b[0;32m   1059\u001b[0m                 \u001b[1;33m)\u001b[0m \u001b[1;32mfrom\u001b[0m \u001b[0mcomplex_warning\u001b[0m\u001b[1;33m\u001b[0m\u001b[1;33m\u001b[0m\u001b[0m\n",
      "\u001b[1;32m~\\AppData\\Local\\Programs\\Python\\Python312\\Lib\\site-packages\\sklearn\\utils\\_array_api.py\u001b[0m in \u001b[0;36m?\u001b[1;34m(array, dtype, order, copy, xp, device)\u001b[0m\n\u001b[0;32m    828\u001b[0m         \u001b[1;31m# Use NumPy API to support order\u001b[0m\u001b[1;33m\u001b[0m\u001b[1;33m\u001b[0m\u001b[0m\n\u001b[0;32m    829\u001b[0m         \u001b[1;32mif\u001b[0m \u001b[0mcopy\u001b[0m \u001b[1;32mis\u001b[0m \u001b[1;32mTrue\u001b[0m\u001b[1;33m:\u001b[0m\u001b[1;33m\u001b[0m\u001b[1;33m\u001b[0m\u001b[0m\n\u001b[0;32m    830\u001b[0m             \u001b[0marray\u001b[0m \u001b[1;33m=\u001b[0m \u001b[0mnumpy\u001b[0m\u001b[1;33m.\u001b[0m\u001b[0marray\u001b[0m\u001b[1;33m(\u001b[0m\u001b[0marray\u001b[0m\u001b[1;33m,\u001b[0m \u001b[0morder\u001b[0m\u001b[1;33m=\u001b[0m\u001b[0morder\u001b[0m\u001b[1;33m,\u001b[0m \u001b[0mdtype\u001b[0m\u001b[1;33m=\u001b[0m\u001b[0mdtype\u001b[0m\u001b[1;33m)\u001b[0m\u001b[1;33m\u001b[0m\u001b[1;33m\u001b[0m\u001b[0m\n\u001b[0;32m    831\u001b[0m         \u001b[1;32melse\u001b[0m\u001b[1;33m:\u001b[0m\u001b[1;33m\u001b[0m\u001b[1;33m\u001b[0m\u001b[0m\n\u001b[1;32m--> 832\u001b[1;33m             \u001b[0marray\u001b[0m \u001b[1;33m=\u001b[0m \u001b[0mnumpy\u001b[0m\u001b[1;33m.\u001b[0m\u001b[0masarray\u001b[0m\u001b[1;33m(\u001b[0m\u001b[0marray\u001b[0m\u001b[1;33m,\u001b[0m \u001b[0morder\u001b[0m\u001b[1;33m=\u001b[0m\u001b[0morder\u001b[0m\u001b[1;33m,\u001b[0m \u001b[0mdtype\u001b[0m\u001b[1;33m=\u001b[0m\u001b[0mdtype\u001b[0m\u001b[1;33m)\u001b[0m\u001b[1;33m\u001b[0m\u001b[1;33m\u001b[0m\u001b[0m\n\u001b[0m\u001b[0;32m    833\u001b[0m \u001b[1;33m\u001b[0m\u001b[0m\n\u001b[0;32m    834\u001b[0m         \u001b[1;31m# At this point array is a NumPy ndarray. We convert it to an array\u001b[0m\u001b[1;33m\u001b[0m\u001b[1;33m\u001b[0m\u001b[0m\n\u001b[0;32m    835\u001b[0m         \u001b[1;31m# container that is consistent with the input's namespace.\u001b[0m\u001b[1;33m\u001b[0m\u001b[1;33m\u001b[0m\u001b[0m\n",
      "\u001b[1;32m~\\AppData\\Local\\Programs\\Python\\Python312\\Lib\\site-packages\\pandas\\core\\generic.py\u001b[0m in \u001b[0;36m?\u001b[1;34m(self, dtype, copy)\u001b[0m\n\u001b[0;32m   2149\u001b[0m     def __array__(\n\u001b[0;32m   2150\u001b[0m         \u001b[0mself\u001b[0m\u001b[1;33m,\u001b[0m \u001b[0mdtype\u001b[0m\u001b[1;33m:\u001b[0m \u001b[0mnpt\u001b[0m\u001b[1;33m.\u001b[0m\u001b[0mDTypeLike\u001b[0m \u001b[1;33m|\u001b[0m \u001b[1;32mNone\u001b[0m \u001b[1;33m=\u001b[0m \u001b[1;32mNone\u001b[0m\u001b[1;33m,\u001b[0m \u001b[0mcopy\u001b[0m\u001b[1;33m:\u001b[0m \u001b[0mbool_t\u001b[0m \u001b[1;33m|\u001b[0m \u001b[1;32mNone\u001b[0m \u001b[1;33m=\u001b[0m \u001b[1;32mNone\u001b[0m\u001b[1;33m\u001b[0m\u001b[1;33m\u001b[0m\u001b[0m\n\u001b[0;32m   2151\u001b[0m     \u001b[1;33m)\u001b[0m \u001b[1;33m->\u001b[0m \u001b[0mnp\u001b[0m\u001b[1;33m.\u001b[0m\u001b[0mndarray\u001b[0m\u001b[1;33m:\u001b[0m\u001b[1;33m\u001b[0m\u001b[1;33m\u001b[0m\u001b[0m\n\u001b[0;32m   2152\u001b[0m         \u001b[0mvalues\u001b[0m \u001b[1;33m=\u001b[0m \u001b[0mself\u001b[0m\u001b[1;33m.\u001b[0m\u001b[0m_values\u001b[0m\u001b[1;33m\u001b[0m\u001b[1;33m\u001b[0m\u001b[0m\n\u001b[1;32m-> 2153\u001b[1;33m         \u001b[0marr\u001b[0m \u001b[1;33m=\u001b[0m \u001b[0mnp\u001b[0m\u001b[1;33m.\u001b[0m\u001b[0masarray\u001b[0m\u001b[1;33m(\u001b[0m\u001b[0mvalues\u001b[0m\u001b[1;33m,\u001b[0m \u001b[0mdtype\u001b[0m\u001b[1;33m=\u001b[0m\u001b[0mdtype\u001b[0m\u001b[1;33m)\u001b[0m\u001b[1;33m\u001b[0m\u001b[1;33m\u001b[0m\u001b[0m\n\u001b[0m\u001b[0;32m   2154\u001b[0m         if (\n\u001b[0;32m   2155\u001b[0m             \u001b[0mastype_is_view\u001b[0m\u001b[1;33m(\u001b[0m\u001b[0mvalues\u001b[0m\u001b[1;33m.\u001b[0m\u001b[0mdtype\u001b[0m\u001b[1;33m,\u001b[0m \u001b[0marr\u001b[0m\u001b[1;33m.\u001b[0m\u001b[0mdtype\u001b[0m\u001b[1;33m)\u001b[0m\u001b[1;33m\u001b[0m\u001b[1;33m\u001b[0m\u001b[0m\n\u001b[0;32m   2156\u001b[0m             \u001b[1;32mand\u001b[0m \u001b[0musing_copy_on_write\u001b[0m\u001b[1;33m(\u001b[0m\u001b[1;33m)\u001b[0m\u001b[1;33m\u001b[0m\u001b[1;33m\u001b[0m\u001b[0m\n",
      "\u001b[1;31mValueError\u001b[0m: could not convert string to float: 'Audi, BMW, Ford, Honda, Hyundai, Mahindra, Maruti, Mercedes, Tata, Toyota, Volkswagen'"
     ]
    }
   ],
   "source": [
    "# Навчання моделі на тренувальних даних\n",
    "model = LinearRegression().fit(X_train, y_train)\n",
    "\n",
    "# Прогнозування на тестових даних\n",
    "predictions_test = model.predict(X_test)\n",
    "\n",
    "# Обчислення втрат (Test Loss)\n",
    "test_loss = mean_squared_error(y_test, predictions_test)\n",
    "print('Test Loss:', test_loss)"
   ]
  },
  {
   "cell_type": "markdown",
   "metadata": {
    "id": "wHDyZp9QSnsF"
   },
   "source": [
    "**Завдання 5.** Оберіть лише числові колонки з `X_train` (можна для цього використати `pandas.select_dtypes(...)` або видалити всі НЕчислові дані, вони нам вже не потрібні), обʼєднайте ці дані з `y_train` (зручно з `pandas.concat([df1, df2], axis=1)`), побудуйте для цих даних матрицю кореляції і проаналізуйте її. Напишіть висновок, які колонки корелюють з цільовою змінною на більш ніж 0.5 за модулем (може бути як позитивна, так і негативна кореляція)."
   ]
  },
  {
   "cell_type": "code",
   "execution_count": 99,
   "metadata": {
    "id": "0EIv0cVVf05Z"
   },
   "outputs": [
    {
     "name": "stdout",
     "output_type": "stream",
     "text": [
      "Correlation Matrix:\n",
      "                        Year  Kilometers_Driven   Mileage    Engine     Power  \\\n",
      "Year                1.000000          -0.708525  0.278559 -0.392764 -0.248442   \n",
      "Kilometers_Driven  -0.708525           1.000000 -0.126621  0.101219 -0.060803   \n",
      "Mileage             0.278559          -0.126621  1.000000 -0.710516 -0.684705   \n",
      "Engine             -0.392764           0.101219 -0.710516  1.000000  0.801638   \n",
      "Power              -0.248442          -0.060803 -0.684705  0.801638  1.000000   \n",
      "Seats              -0.278755           0.403656 -0.178619  0.167326 -0.139388   \n",
      "fuel_type_codes     0.248515          -0.332351 -0.070112 -0.174455  0.076357   \n",
      "Transmission_codes -0.200603          -0.066491 -0.399164  0.456296  0.586910   \n",
      "Owner_Type_Codes   -0.014499          -0.001772  0.026624 -0.196106 -0.204309   \n",
      "Price              -0.233769          -0.083951 -0.638404  0.710561  0.849137   \n",
      "\n",
      "                       Seats  fuel_type_codes  Transmission_codes  \\\n",
      "Year               -0.278755         0.248515           -0.200603   \n",
      "Kilometers_Driven   0.403656        -0.332351           -0.066491   \n",
      "Mileage            -0.178619        -0.070112           -0.399164   \n",
      "Engine              0.167326        -0.174455            0.456296   \n",
      "Power              -0.139388         0.076357            0.586910   \n",
      "Seats               1.000000        -0.412468           -0.070099   \n",
      "fuel_type_codes    -0.412468         1.000000           -0.005775   \n",
      "Transmission_codes -0.070099        -0.005775            1.000000   \n",
      "Owner_Type_Codes   -0.043849         0.281122            0.005886   \n",
      "Price               0.000979        -0.110782            0.680731   \n",
      "\n",
      "                    Owner_Type_Codes     Price  \n",
      "Year                       -0.014499 -0.233769  \n",
      "Kilometers_Driven          -0.001772 -0.083951  \n",
      "Mileage                     0.026624 -0.638404  \n",
      "Engine                     -0.196106  0.710561  \n",
      "Power                      -0.204309  0.849137  \n",
      "Seats                      -0.043849  0.000979  \n",
      "fuel_type_codes             0.281122 -0.110782  \n",
      "Transmission_codes          0.005886  0.680731  \n",
      "Owner_Type_Codes            1.000000 -0.265537  \n",
      "Price                      -0.265537  1.000000  \n",
      "\n",
      "Columns with strong correlation with 'Price' (|correlation| > 0.5):\n",
      "Mileage              -0.638404\n",
      "Engine                0.710561\n",
      "Power                 0.849137\n",
      "Transmission_codes    0.680731\n",
      "Price                 1.000000\n",
      "Name: Price, dtype: float64\n"
     ]
    }
   ],
   "source": [
    "import pandas as pd\n",
    "\n",
    "# 1. Вибираємо лише числові колонки\n",
    "X_train_numeric = X_train.select_dtypes(include=['number'])\n",
    "\n",
    "# 2. Об'єднуємо дані X_train_numeric із y_train\n",
    "train_data = pd.concat([X_train_numeric, y_train], axis=1)\n",
    "\n",
    "# 3. Побудова матриці кореляції\n",
    "correlation_matrix = train_data.corr()\n",
    "\n",
    "# Виводимо матрицю кореляції\n",
    "print(\"Correlation Matrix:\")\n",
    "print(correlation_matrix)\n",
    "\n",
    "# 4. Аналіз кореляції з цільовою змінною 'Price'\n",
    "target_correlation = correlation_matrix['Price']\n",
    "\n",
    "# Фільтруємо колонки з кореляцією більше за 0.5 або менше за -0.5\n",
    "strong_correlation = target_correlation[abs(target_correlation) > 0.5]\n",
    "\n",
    "print(\"\\nColumns with strong correlation with 'Price' (|correlation| > 0.5):\")\n",
    "print(strong_correlation)"
   ]
  },
  {
   "cell_type": "code",
   "execution_count": 100,
   "metadata": {
    "id": "SElx21B4f3VY"
   },
   "outputs": [],
   "source": [
    "df_for_viz = pd.concat([X_train.select_dtypes('number'), y_train], axis=1)"
   ]
  },
  {
   "cell_type": "code",
   "execution_count": 101,
   "metadata": {},
   "outputs": [
    {
     "data": {
      "text/html": [
       "<div>\n",
       "<style scoped>\n",
       "    .dataframe tbody tr th:only-of-type {\n",
       "        vertical-align: middle;\n",
       "    }\n",
       "\n",
       "    .dataframe tbody tr th {\n",
       "        vertical-align: top;\n",
       "    }\n",
       "\n",
       "    .dataframe thead th {\n",
       "        text-align: right;\n",
       "    }\n",
       "</style>\n",
       "<table border=\"1\" class=\"dataframe\">\n",
       "  <thead>\n",
       "    <tr style=\"text-align: right;\">\n",
       "      <th></th>\n",
       "      <th>Year</th>\n",
       "      <th>Kilometers_Driven</th>\n",
       "      <th>Mileage</th>\n",
       "      <th>Engine</th>\n",
       "      <th>Power</th>\n",
       "      <th>Seats</th>\n",
       "      <th>fuel_type_codes</th>\n",
       "      <th>Transmission_codes</th>\n",
       "      <th>Owner_Type_Codes</th>\n",
       "      <th>Price</th>\n",
       "    </tr>\n",
       "  </thead>\n",
       "  <tbody>\n",
       "    <tr>\n",
       "      <th>83</th>\n",
       "      <td>2019</td>\n",
       "      <td>22000</td>\n",
       "      <td>18</td>\n",
       "      <td>1498</td>\n",
       "      <td>148</td>\n",
       "      <td>5</td>\n",
       "      <td>1</td>\n",
       "      <td>1</td>\n",
       "      <td>1.0</td>\n",
       "      <td>1600000</td>\n",
       "    </tr>\n",
       "    <tr>\n",
       "      <th>55</th>\n",
       "      <td>2018</td>\n",
       "      <td>28000</td>\n",
       "      <td>17</td>\n",
       "      <td>1968</td>\n",
       "      <td>187</td>\n",
       "      <td>5</td>\n",
       "      <td>0</td>\n",
       "      <td>1</td>\n",
       "      <td>0.0</td>\n",
       "      <td>2600000</td>\n",
       "    </tr>\n",
       "    <tr>\n",
       "      <th>26</th>\n",
       "      <td>2018</td>\n",
       "      <td>28000</td>\n",
       "      <td>15</td>\n",
       "      <td>1984</td>\n",
       "      <td>241</td>\n",
       "      <td>5</td>\n",
       "      <td>1</td>\n",
       "      <td>1</td>\n",
       "      <td>0.0</td>\n",
       "      <td>3200000</td>\n",
       "    </tr>\n",
       "    <tr>\n",
       "      <th>54</th>\n",
       "      <td>2017</td>\n",
       "      <td>32000</td>\n",
       "      <td>18</td>\n",
       "      <td>1598</td>\n",
       "      <td>103</td>\n",
       "      <td>5</td>\n",
       "      <td>1</td>\n",
       "      <td>0</td>\n",
       "      <td>1.0</td>\n",
       "      <td>650000</td>\n",
       "    </tr>\n",
       "    <tr>\n",
       "      <th>19</th>\n",
       "      <td>2017</td>\n",
       "      <td>26000</td>\n",
       "      <td>12</td>\n",
       "      <td>1991</td>\n",
       "      <td>241</td>\n",
       "      <td>5</td>\n",
       "      <td>1</td>\n",
       "      <td>1</td>\n",
       "      <td>1.0</td>\n",
       "      <td>2500000</td>\n",
       "    </tr>\n",
       "    <tr>\n",
       "      <th>...</th>\n",
       "      <td>...</td>\n",
       "      <td>...</td>\n",
       "      <td>...</td>\n",
       "      <td>...</td>\n",
       "      <td>...</td>\n",
       "      <td>...</td>\n",
       "      <td>...</td>\n",
       "      <td>...</td>\n",
       "      <td>...</td>\n",
       "      <td>...</td>\n",
       "    </tr>\n",
       "    <tr>\n",
       "      <th>3</th>\n",
       "      <td>2020</td>\n",
       "      <td>30000</td>\n",
       "      <td>23</td>\n",
       "      <td>1248</td>\n",
       "      <td>74</td>\n",
       "      <td>5</td>\n",
       "      <td>0</td>\n",
       "      <td>0</td>\n",
       "      <td>2.0</td>\n",
       "      <td>600000</td>\n",
       "    </tr>\n",
       "    <tr>\n",
       "      <th>2</th>\n",
       "      <td>2017</td>\n",
       "      <td>20000</td>\n",
       "      <td>10</td>\n",
       "      <td>4951</td>\n",
       "      <td>395</td>\n",
       "      <td>4</td>\n",
       "      <td>1</td>\n",
       "      <td>1</td>\n",
       "      <td>0.0</td>\n",
       "      <td>2500000</td>\n",
       "    </tr>\n",
       "    <tr>\n",
       "      <th>6</th>\n",
       "      <td>2018</td>\n",
       "      <td>45000</td>\n",
       "      <td>15</td>\n",
       "      <td>2179</td>\n",
       "      <td>140</td>\n",
       "      <td>7</td>\n",
       "      <td>0</td>\n",
       "      <td>1</td>\n",
       "      <td>1.0</td>\n",
       "      <td>900000</td>\n",
       "    </tr>\n",
       "    <tr>\n",
       "      <th>27</th>\n",
       "      <td>2019</td>\n",
       "      <td>22000</td>\n",
       "      <td>18</td>\n",
       "      <td>1995</td>\n",
       "      <td>187</td>\n",
       "      <td>5</td>\n",
       "      <td>0</td>\n",
       "      <td>1</td>\n",
       "      <td>1.0</td>\n",
       "      <td>2800000</td>\n",
       "    </tr>\n",
       "    <tr>\n",
       "      <th>75</th>\n",
       "      <td>2019</td>\n",
       "      <td>22000</td>\n",
       "      <td>15</td>\n",
       "      <td>2993</td>\n",
       "      <td>261</td>\n",
       "      <td>5</td>\n",
       "      <td>0</td>\n",
       "      <td>1</td>\n",
       "      <td>0.0</td>\n",
       "      <td>3500000</td>\n",
       "    </tr>\n",
       "  </tbody>\n",
       "</table>\n",
       "<p>80 rows × 10 columns</p>\n",
       "</div>"
      ],
      "text/plain": [
       "    Year  Kilometers_Driven  Mileage  Engine  Power  Seats  fuel_type_codes  \\\n",
       "83  2019              22000       18    1498    148      5                1   \n",
       "55  2018              28000       17    1968    187      5                0   \n",
       "26  2018              28000       15    1984    241      5                1   \n",
       "54  2017              32000       18    1598    103      5                1   \n",
       "19  2017              26000       12    1991    241      5                1   \n",
       "..   ...                ...      ...     ...    ...    ...              ...   \n",
       "3   2020              30000       23    1248     74      5                0   \n",
       "2   2017              20000       10    4951    395      4                1   \n",
       "6   2018              45000       15    2179    140      7                0   \n",
       "27  2019              22000       18    1995    187      5                0   \n",
       "75  2019              22000       15    2993    261      5                0   \n",
       "\n",
       "    Transmission_codes  Owner_Type_Codes    Price  \n",
       "83                   1               1.0  1600000  \n",
       "55                   1               0.0  2600000  \n",
       "26                   1               0.0  3200000  \n",
       "54                   0               1.0   650000  \n",
       "19                   1               1.0  2500000  \n",
       "..                 ...               ...      ...  \n",
       "3                    0               2.0   600000  \n",
       "2                    1               0.0  2500000  \n",
       "6                    1               1.0   900000  \n",
       "27                   1               1.0  2800000  \n",
       "75                   1               0.0  3500000  \n",
       "\n",
       "[80 rows x 10 columns]"
      ]
     },
     "execution_count": 101,
     "metadata": {},
     "output_type": "execute_result"
    }
   ],
   "source": [
    "df_for_viz"
   ]
  },
  {
   "cell_type": "code",
   "execution_count": 102,
   "metadata": {},
   "outputs": [
    {
     "data": {
      "text/plain": [
       "<Axes: >"
      ]
     },
     "execution_count": 102,
     "metadata": {},
     "output_type": "execute_result"
    },
    {
     "data": {
      "image/png": "[encoded data removed]",
      "text/plain": [
       "<Figure size 2000x1000 with 2 Axes>"
      ]
     },
     "metadata": {},
     "output_type": "display_data"
    }
   ],
   "source": [
    "plt.figure(figsize=(20,10))\n",
    "sns.heatmap(df_for_viz.corr(),annot=True,cmap=\"coolwarm\")"
   ]
  },
  {
   "cell_type": "markdown",
   "metadata": {
    "id": "G7BZ3pD-USgU"
   },
   "source": [
    "**Завдання 6**. Тренуємо лінійну регресію.\n",
    "0. Видаліть усі НЕчислові колонки з `X_train`, `X_test`, якщо ще цього не зробили.\n",
    "1. Натренуйте лінійну регресую з `sklearn` на усіх числових даних тренувального набору `X_train`.\n",
    "2. Зробіть передбачення на  `X_train`, `X_test`. Знайдіть і виведіть root mean squared error відхилення передбачення від справжніх значень цільової змінної.\n",
    "3. Побудуйте графік розсіювання передбачень проти реальних даних цільової змінної для тренувального і тестувального наборів даних. Що можете сказати про якість моделі?"
   ]
  },
  {
   "cell_type": "code",
   "execution_count": 103,
   "metadata": {},
   "outputs": [],
   "source": [
    "X_train.drop(columns=X_train.select_dtypes('object').columns, inplace=True)\n",
    "X_test.drop(columns=X_test.select_dtypes('object').columns, inplace=True)"
   ]
  },
  {
   "cell_type": "code",
   "execution_count": 106,
   "metadata": {},
   "outputs": [
    {
     "name": "stdout",
     "output_type": "stream",
     "text": [
      "Помилка моделі на тренувальному наборі даних: 177721183626.04\n",
      "Помилка моделі на тестувальному наборі даних: 102210816527.74\n"
     ]
    }
   ],
   "source": [
    "# Створюємо і одразу тренуємо модель\n",
    "model = LinearRegression().fit(X_train, y_train)\n",
    "\n",
    "# Робимо передбачення моделлю\n",
    "y_train_pred = model.predict(X_train)\n",
    "y_test_pred = model.predict(X_test)\n",
    "\n",
    "# Разуємо лосс\n",
    "train_loss = mean_squared_error(y_train, y_train_pred)\n",
    "test_loss = mean_squared_error(y_test, y_test_pred)\n",
    "\n",
    "print(f'Помилка моделі на тренувальному наборі даних: {round(train_loss, 2)}')\n",
    "print(f'Помилка моделі на тестувальному наборі даних: {round(test_loss, 2)}')"
   ]
  },
  {
   "cell_type": "markdown",
   "metadata": {},
   "source": [
    "Точно щось не так))"
   ]
  },
  {
   "cell_type": "code",
   "execution_count": 107,
   "metadata": {},
   "outputs": [
    {
     "data": {
      "image/png": "[encoded data removed]",
      "text/plain": [
       "<Figure size 640x480 with 1 Axes>"
      ]
     },
     "metadata": {},
     "output_type": "display_data"
    }
   ],
   "source": [
    "plt.scatter(y_train, y_train_pred, label='train')\n",
    "plt.scatter(y_test, y_test_pred, label='test')\n",
    "plt.xlabel('Ground truth')\n",
    "plt.ylabel('Predictions')\n",
    "plt.legend();"
   ]
  },
  {
   "cell_type": "markdown",
   "metadata": {
    "id": "0LcACfQ3W3VP"
   },
   "source": [
    "**Завдання 7**. Ми хочемо проаналізувати як впливає кожен чинник на цілову змінну. Для цього давайте промасштабуємо наші дані.\n",
    "1. Зробіть масштабування незалежних змінних використовуючи `StandardScaler`. Тренуємо на тренувальних даних, а на тестувальних лише викликаємо `transform`.\n",
    "\n",
    "2. Натренуйте модель на відмасштабованих даних і перегляньте коефіцієнти моделі. Які колонки є найвпливовішими на формування передбачення з точки зору коефіцієнтів? Проаналізуйте напрям дії найважливіших коефіцієнтів. Чи це логічно з точки зору значення відповідних змінних, що вони впливають на цільову змінну саме в напрямі збільшення / зменшення?"
   ]
  },
  {
   "cell_type": "code",
   "execution_count": 108,
   "metadata": {},
   "outputs": [],
   "source": [
    "scaler = StandardScaler()\n",
    "X_train_scaled = pd.DataFrame(scaler.fit_transform(X_train), columns=X_train.columns)\n",
    "X_test_scaled = pd.DataFrame(scaler.transform(X_test), columns=X_train.columns)"
   ]
  },
  {
   "cell_type": "code",
   "execution_count": 109,
   "metadata": {
    "id": "HA-l3vUWf6Af"
   },
   "outputs": [
    {
     "name": "stdout",
     "output_type": "stream",
     "text": [
      "Помилка моделі на тренувальному наборі даних: 177721183626.03\n",
      "Помилка моделі на тестувальному наборі даних: 102210816527.74\n"
     ]
    }
   ],
   "source": [
    "model = LinearRegression().fit(X_train_scaled, y_train)\n",
    "\n",
    "y_train_pred = model.predict(X_train_scaled)\n",
    "y_test_pred = model.predict(X_test_scaled)\n",
    "\n",
    "train_loss = mean_squared_error(y_train, y_train_pred)\n",
    "test_loss = mean_squared_error(y_test, y_test_pred)\n",
    "\n",
    "print(f'Помилка моделі на тренувальному наборі даних: {round(train_loss, 2)}')\n",
    "print(f'Помилка моделі на тестувальному наборі даних: {round(test_loss, 2)}')"
   ]
  },
  {
   "cell_type": "code",
   "execution_count": 110,
   "metadata": {},
   "outputs": [
    {
     "data": {
      "text/html": [
       "<style type=\"text/css\">\n",
       "#T_74629_row0_col1 {\n",
       "  background-color: #fff7fb;\n",
       "  color: #000000;\n",
       "}\n",
       "#T_74629_row1_col1 {\n",
       "  background-color: #fef6fb;\n",
       "  color: #000000;\n",
       "}\n",
       "#T_74629_row2_col1 {\n",
       "  background-color: #fef6fa;\n",
       "  color: #000000;\n",
       "}\n",
       "#T_74629_row3_col1 {\n",
       "  background-color: #fbf4f9;\n",
       "  color: #000000;\n",
       "}\n",
       "#T_74629_row4_col1 {\n",
       "  background-color: #f8f1f8;\n",
       "  color: #000000;\n",
       "}\n",
       "#T_74629_row5_col1 {\n",
       "  background-color: #f7f0f7;\n",
       "  color: #000000;\n",
       "}\n",
       "#T_74629_row6_col1 {\n",
       "  background-color: #e7e3f0;\n",
       "  color: #000000;\n",
       "}\n",
       "#T_74629_row7_col1 {\n",
       "  background-color: #d0d1e6;\n",
       "  color: #000000;\n",
       "}\n",
       "#T_74629_row8_col1 {\n",
       "  background-color: #81aed2;\n",
       "  color: #f1f1f1;\n",
       "}\n",
       "#T_74629_row9_col1 {\n",
       "  background-color: #023858;\n",
       "  color: #f1f1f1;\n",
       "}\n",
       "</style>\n",
       "<table id=\"T_74629\">\n",
       "  <thead>\n",
       "    <tr>\n",
       "      <th class=\"blank level0\" >&nbsp;</th>\n",
       "      <th id=\"T_74629_level0_col0\" class=\"col_heading level0 col0\" >feature</th>\n",
       "      <th id=\"T_74629_level0_col1\" class=\"col_heading level0 col1\" >weight</th>\n",
       "    </tr>\n",
       "  </thead>\n",
       "  <tbody>\n",
       "    <tr>\n",
       "      <th id=\"T_74629_level0_row0\" class=\"row_heading level0 row0\" >1</th>\n",
       "      <td id=\"T_74629_row0_col0\" class=\"data row0 col0\" >Kilometers_Driven</td>\n",
       "      <td id=\"T_74629_row0_col1\" class=\"data row0 col1\" >-203061.040000</td>\n",
       "    </tr>\n",
       "    <tr>\n",
       "      <th id=\"T_74629_level0_row1\" class=\"row_heading level0 row1\" >2</th>\n",
       "      <td id=\"T_74629_row1_col0\" class=\"data row1 col0\" >Mileage</td>\n",
       "      <td id=\"T_74629_row1_col1\" class=\"data row1 col1\" >-190995.890000</td>\n",
       "    </tr>\n",
       "    <tr>\n",
       "      <th id=\"T_74629_level0_row2\" class=\"row_heading level0 row2\" >6</th>\n",
       "      <td id=\"T_74629_row2_col0\" class=\"data row2 col0\" >fuel_type_codes</td>\n",
       "      <td id=\"T_74629_row2_col1\" class=\"data row2 col1\" >-182478.250000</td>\n",
       "    </tr>\n",
       "    <tr>\n",
       "      <th id=\"T_74629_level0_row3\" class=\"row_heading level0 row3\" >3</th>\n",
       "      <td id=\"T_74629_row3_col0\" class=\"data row3 col0\" >Engine</td>\n",
       "      <td id=\"T_74629_row3_col1\" class=\"data row3 col1\" >-151810.800000</td>\n",
       "    </tr>\n",
       "    <tr>\n",
       "      <th id=\"T_74629_level0_row4\" class=\"row_heading level0 row4\" >8</th>\n",
       "      <td id=\"T_74629_row4_col0\" class=\"data row4 col0\" >Owner_Type_Codes</td>\n",
       "      <td id=\"T_74629_row4_col1\" class=\"data row4 col1\" >-110556.780000</td>\n",
       "    </tr>\n",
       "    <tr>\n",
       "      <th id=\"T_74629_level0_row5\" class=\"row_heading level0 row5\" >0</th>\n",
       "      <td id=\"T_74629_row5_col0\" class=\"data row5 col0\" >Year</td>\n",
       "      <td id=\"T_74629_row5_col1\" class=\"data row5 col1\" >-104747.100000</td>\n",
       "    </tr>\n",
       "    <tr>\n",
       "      <th id=\"T_74629_level0_row6\" class=\"row_heading level0 row6\" >5</th>\n",
       "      <td id=\"T_74629_row6_col0\" class=\"data row6 col0\" >Seats</td>\n",
       "      <td id=\"T_74629_row6_col1\" class=\"data row6 col1\" >77822.560000</td>\n",
       "    </tr>\n",
       "    <tr>\n",
       "      <th id=\"T_74629_level0_row7\" class=\"row_heading level0 row7\" >7</th>\n",
       "      <td id=\"T_74629_row7_col0\" class=\"data row7 col0\" >Transmission_codes</td>\n",
       "      <td id=\"T_74629_row7_col1\" class=\"data row7 col1\" >272561.290000</td>\n",
       "    </tr>\n",
       "    <tr>\n",
       "      <th id=\"T_74629_level0_row8\" class=\"row_heading level0 row8\" >4</th>\n",
       "      <td id=\"T_74629_row8_col0\" class=\"data row8 col0\" >Power</td>\n",
       "      <td id=\"T_74629_row8_col1\" class=\"data row8 col1\" >672683.240000</td>\n",
       "    </tr>\n",
       "    <tr>\n",
       "      <th id=\"T_74629_level0_row9\" class=\"row_heading level0 row9\" >9</th>\n",
       "      <td id=\"T_74629_row9_col0\" class=\"data row9 col0\" >1</td>\n",
       "      <td id=\"T_74629_row9_col1\" class=\"data row9 col1\" >1680000.000000</td>\n",
       "    </tr>\n",
       "  </tbody>\n",
       "</table>\n"
      ],
      "text/plain": [
       "<pandas.io.formats.style.Styler at 0x121deb55e20>"
      ]
     },
     "execution_count": 110,
     "metadata": {},
     "output_type": "execute_result"
    }
   ],
   "source": [
    "weights_df = pd.DataFrame({\n",
    "    'feature': np.append(X_train.columns, 1),\n",
    "    'weight': np.append(model.coef_, model.intercept_)\n",
    "})\n",
    "weights_df.sort_values('weight').round(2).style.background_gradient()"
   ]
  },
  {
   "cell_type": "markdown",
   "metadata": {
    "id": "WNNkfnrHr7wL"
   },
   "source": [
    "**Завдання 8.** На тих самих відмасштабованих даних натренуйте модель з `statsmodels`. Виведіть звіт і проаналізуйте p-value коефіцієнтів. Які ознаки є стат значущими на рівні значущості 0.05? Напишіть їх список."
   ]
  },
  {
   "cell_type": "code",
   "execution_count": 111,
   "metadata": {
    "id": "hcYoViyff7zE"
   },
   "outputs": [
    {
     "name": "stdout",
     "output_type": "stream",
     "text": [
      "                            OLS Regression Results                            \n",
      "==============================================================================\n",
      "Dep. Variable:                      y   R-squared:                       0.834\n",
      "Model:                            OLS   Adj. R-squared:                  0.812\n",
      "Method:                 Least Squares   F-statistic:                     39.00\n",
      "Date:                Sun, 12 Jan 2025   Prob (F-statistic):           7.81e-24\n",
      "Time:                        23:51:07   Log-Likelihood:                -1149.7\n",
      "No. Observations:                  80   AIC:                             2319.\n",
      "Df Residuals:                      70   BIC:                             2343.\n",
      "Df Model:                           9                                         \n",
      "Covariance Type:            nonrobust                                         \n",
      "======================================================================================\n",
      "                         coef    std err          t      P>|t|      [0.025      0.975]\n",
      "--------------------------------------------------------------------------------------\n",
      "const                1.68e+06   5.04e+04     33.342      0.000    1.58e+06    1.78e+06\n",
      "Year               -1.047e+05   8.31e+04     -1.261      0.211    -2.7e+05    6.09e+04\n",
      "Kilometers_Driven  -2.031e+05   8.24e+04     -2.463      0.016   -3.67e+05   -3.86e+04\n",
      "Mileage             -1.91e+05   8.26e+04     -2.312      0.024   -3.56e+05   -2.63e+04\n",
      "Engine             -1.518e+05   1.08e+05     -1.408      0.164   -3.67e+05    6.32e+04\n",
      "Power               6.727e+05   1.14e+05      5.875      0.000    4.44e+05    9.01e+05\n",
      "Seats               7.782e+04   6.51e+04      1.195      0.236    -5.2e+04    2.08e+05\n",
      "fuel_type_codes    -1.825e+05   6.42e+04     -2.844      0.006    -3.1e+05   -5.45e+04\n",
      "Transmission_codes  2.726e+05   6.45e+04      4.226      0.000    1.44e+05    4.01e+05\n",
      "Owner_Type_Codes   -1.106e+05   5.63e+04     -1.962      0.054   -2.23e+05    1817.866\n",
      "==============================================================================\n",
      "Omnibus:                        5.928   Durbin-Watson:                   2.126\n",
      "Prob(Omnibus):                  0.052   Jarque-Bera (JB):                5.464\n",
      "Skew:                          -0.633   Prob(JB):                       0.0651\n",
      "Kurtosis:                       3.188   Cond. No.                         5.15\n",
      "==============================================================================\n",
      "\n",
      "Notes:\n",
      "[1] Standard Errors assume that the covariance matrix of the errors is correctly specified.\n"
     ]
    }
   ],
   "source": [
    "import statsmodels.api as sm\n",
    "\n",
    "X = sm.add_constant(X_train_scaled)\n",
    "model = sm.OLS(y_train.values, X)\n",
    "results = model.fit()\n",
    "print(results.summary())"
   ]
  },
  {
   "cell_type": "markdown",
   "metadata": {
    "id": "pvOdCEVccfcM"
   },
   "source": [
    "**Завдання 9**. Натренуйте лінійну регресію з `statsmodels` тільки на ознаках, які виявлись стат. значущими в попередньому завданні. Проаналізуйте показники моделі. Чи значно змінились R2 і Adj. R-squared?"
   ]
  },
  {
   "cell_type": "code",
   "execution_count": null,
   "metadata": {
    "id": "2uE1DqiCf85H"
   },
   "outputs": [],
   "source": []
  },
  {
   "cell_type": "markdown",
   "metadata": {
    "id": "q-AJSrlxdx-p"
   },
   "source": [
    "**Завдання 10**. Натренуйте лінійну регресію з `statsmodels` на усіх ознаках з масштабованого `X_train`, у яких p_value в завданні 7 менше за `0.25`. Ми таким чином помʼякшили критерій відбору ознак. Проаналізуйте показники моделі. Чи значно змінились R2 і Adj. R-squared порівняно з завданням 7? Яку модель з останніх 3х завдань ви б лишили для використання?"
   ]
  },
  {
   "cell_type": "code",
   "execution_count": null,
   "metadata": {
    "id": "nBVF4b-bgAdz"
   },
   "outputs": [],
   "source": []
  }
 ],
 "metadata": {
  "colab": {
   "provenance": []
  },
  "kernelspec": {
   "display_name": "Python 3 (ipykernel)",
   "language": "python",
   "name": "python3"
  },
  "language_info": {
   "codemirror_mode": {
    "name": "ipython",
    "version": 3
   },
   "file_extension": ".py",
   "mimetype": "text/x-python",
   "name": "python",
   "nbconvert_exporter": "python",
   "pygments_lexer": "ipython3",
   "version": "3.12.6"
  }
 },
 "nbformat": 4,
 "nbformat_minor": 4
}
